{
 "cells": [
  {
   "cell_type": "markdown",
   "metadata": {},
   "source": [
    "# Decision tree"
   ]
  },
  {
   "cell_type": "code",
   "execution_count": 2,
   "metadata": {},
   "outputs": [],
   "source": [
    "#Imports\n",
    "import pandas as pd\n",
    "import numpy as np"
   ]
  },
  {
   "cell_type": "markdown",
   "metadata": {},
   "source": [
    "## Preproccesing data"
   ]
  },
  {
   "cell_type": "code",
   "execution_count": 3,
   "metadata": {},
   "outputs": [],
   "source": [
    "df = pd.read_csv(\"data\\cancer-data.csv\",header=None)"
   ]
  },
  {
   "cell_type": "code",
   "execution_count": 4,
   "metadata": {},
   "outputs": [
    {
     "data": {
      "text/html": [
       "<div>\n",
       "<style scoped>\n",
       "    .dataframe tbody tr th:only-of-type {\n",
       "        vertical-align: middle;\n",
       "    }\n",
       "\n",
       "    .dataframe tbody tr th {\n",
       "        vertical-align: top;\n",
       "    }\n",
       "\n",
       "    .dataframe thead th {\n",
       "        text-align: right;\n",
       "    }\n",
       "</style>\n",
       "<table border=\"1\" class=\"dataframe\">\n",
       "  <thead>\n",
       "    <tr style=\"text-align: right;\">\n",
       "      <th></th>\n",
       "      <th>0</th>\n",
       "      <th>1</th>\n",
       "      <th>2</th>\n",
       "      <th>3</th>\n",
       "      <th>4</th>\n",
       "      <th>5</th>\n",
       "      <th>6</th>\n",
       "      <th>7</th>\n",
       "      <th>8</th>\n",
       "      <th>9</th>\n",
       "    </tr>\n",
       "  </thead>\n",
       "  <tbody>\n",
       "    <tr>\n",
       "      <th>0</th>\n",
       "      <td>'40-49'</td>\n",
       "      <td>'premeno'</td>\n",
       "      <td>'15-19'</td>\n",
       "      <td>'0-2'</td>\n",
       "      <td>'yes'</td>\n",
       "      <td>'3'</td>\n",
       "      <td>'right'</td>\n",
       "      <td>'left_up'</td>\n",
       "      <td>'no'</td>\n",
       "      <td>'recurrence-events'</td>\n",
       "    </tr>\n",
       "    <tr>\n",
       "      <th>1</th>\n",
       "      <td>'50-59'</td>\n",
       "      <td>'ge40'</td>\n",
       "      <td>'15-19'</td>\n",
       "      <td>'0-2'</td>\n",
       "      <td>'no'</td>\n",
       "      <td>'1'</td>\n",
       "      <td>'right'</td>\n",
       "      <td>'central'</td>\n",
       "      <td>'no'</td>\n",
       "      <td>'no-recurrence-events'</td>\n",
       "    </tr>\n",
       "    <tr>\n",
       "      <th>2</th>\n",
       "      <td>'50-59'</td>\n",
       "      <td>'ge40'</td>\n",
       "      <td>'35-39'</td>\n",
       "      <td>'0-2'</td>\n",
       "      <td>'no'</td>\n",
       "      <td>'2'</td>\n",
       "      <td>'left'</td>\n",
       "      <td>'left_low'</td>\n",
       "      <td>'no'</td>\n",
       "      <td>'recurrence-events'</td>\n",
       "    </tr>\n",
       "    <tr>\n",
       "      <th>3</th>\n",
       "      <td>'40-49'</td>\n",
       "      <td>'premeno'</td>\n",
       "      <td>'35-39'</td>\n",
       "      <td>'0-2'</td>\n",
       "      <td>'yes'</td>\n",
       "      <td>'3'</td>\n",
       "      <td>'right'</td>\n",
       "      <td>'left_low'</td>\n",
       "      <td>'yes'</td>\n",
       "      <td>'no-recurrence-events'</td>\n",
       "    </tr>\n",
       "    <tr>\n",
       "      <th>4</th>\n",
       "      <td>'40-49'</td>\n",
       "      <td>'premeno'</td>\n",
       "      <td>'30-34'</td>\n",
       "      <td>'3-5'</td>\n",
       "      <td>'yes'</td>\n",
       "      <td>'2'</td>\n",
       "      <td>'left'</td>\n",
       "      <td>'right_up'</td>\n",
       "      <td>'no'</td>\n",
       "      <td>'recurrence-events'</td>\n",
       "    </tr>\n",
       "  </tbody>\n",
       "</table>\n",
       "</div>"
      ],
      "text/plain": [
       "         0          1        2      3      4    5        6           7      8  \\\n",
       "0  '40-49'  'premeno'  '15-19'  '0-2'  'yes'  '3'  'right'   'left_up'   'no'   \n",
       "1  '50-59'     'ge40'  '15-19'  '0-2'   'no'  '1'  'right'   'central'   'no'   \n",
       "2  '50-59'     'ge40'  '35-39'  '0-2'   'no'  '2'   'left'  'left_low'   'no'   \n",
       "3  '40-49'  'premeno'  '35-39'  '0-2'  'yes'  '3'  'right'  'left_low'  'yes'   \n",
       "4  '40-49'  'premeno'  '30-34'  '3-5'  'yes'  '2'   'left'  'right_up'   'no'   \n",
       "\n",
       "                        9  \n",
       "0     'recurrence-events'  \n",
       "1  'no-recurrence-events'  \n",
       "2     'recurrence-events'  \n",
       "3  'no-recurrence-events'  \n",
       "4     'recurrence-events'  "
      ]
     },
     "execution_count": 4,
     "metadata": {},
     "output_type": "execute_result"
    }
   ],
   "source": [
    "df.head()"
   ]
  },
  {
   "cell_type": "code",
   "execution_count": 5,
   "metadata": {},
   "outputs": [],
   "source": [
    "df.columns = ['age', 'menopause', 'tumor-size', 'inv-nodes', 'node-caps', 'deg-malig', 'breast', 'breast-quad', 'irradiant', 'class']"
   ]
  },
  {
   "cell_type": "code",
   "execution_count": 6,
   "metadata": {},
   "outputs": [
    {
     "data": {
      "text/html": [
       "<div>\n",
       "<style scoped>\n",
       "    .dataframe tbody tr th:only-of-type {\n",
       "        vertical-align: middle;\n",
       "    }\n",
       "\n",
       "    .dataframe tbody tr th {\n",
       "        vertical-align: top;\n",
       "    }\n",
       "\n",
       "    .dataframe thead th {\n",
       "        text-align: right;\n",
       "    }\n",
       "</style>\n",
       "<table border=\"1\" class=\"dataframe\">\n",
       "  <thead>\n",
       "    <tr style=\"text-align: right;\">\n",
       "      <th></th>\n",
       "      <th>age</th>\n",
       "      <th>menopause</th>\n",
       "      <th>tumor-size</th>\n",
       "      <th>inv-nodes</th>\n",
       "      <th>node-caps</th>\n",
       "      <th>deg-malig</th>\n",
       "      <th>breast</th>\n",
       "      <th>breast-quad</th>\n",
       "      <th>irradiant</th>\n",
       "      <th>class</th>\n",
       "    </tr>\n",
       "  </thead>\n",
       "  <tbody>\n",
       "    <tr>\n",
       "      <th>0</th>\n",
       "      <td>'40-49'</td>\n",
       "      <td>'premeno'</td>\n",
       "      <td>'15-19'</td>\n",
       "      <td>'0-2'</td>\n",
       "      <td>'yes'</td>\n",
       "      <td>'3'</td>\n",
       "      <td>'right'</td>\n",
       "      <td>'left_up'</td>\n",
       "      <td>'no'</td>\n",
       "      <td>'recurrence-events'</td>\n",
       "    </tr>\n",
       "    <tr>\n",
       "      <th>1</th>\n",
       "      <td>'50-59'</td>\n",
       "      <td>'ge40'</td>\n",
       "      <td>'15-19'</td>\n",
       "      <td>'0-2'</td>\n",
       "      <td>'no'</td>\n",
       "      <td>'1'</td>\n",
       "      <td>'right'</td>\n",
       "      <td>'central'</td>\n",
       "      <td>'no'</td>\n",
       "      <td>'no-recurrence-events'</td>\n",
       "    </tr>\n",
       "    <tr>\n",
       "      <th>2</th>\n",
       "      <td>'50-59'</td>\n",
       "      <td>'ge40'</td>\n",
       "      <td>'35-39'</td>\n",
       "      <td>'0-2'</td>\n",
       "      <td>'no'</td>\n",
       "      <td>'2'</td>\n",
       "      <td>'left'</td>\n",
       "      <td>'left_low'</td>\n",
       "      <td>'no'</td>\n",
       "      <td>'recurrence-events'</td>\n",
       "    </tr>\n",
       "    <tr>\n",
       "      <th>3</th>\n",
       "      <td>'40-49'</td>\n",
       "      <td>'premeno'</td>\n",
       "      <td>'35-39'</td>\n",
       "      <td>'0-2'</td>\n",
       "      <td>'yes'</td>\n",
       "      <td>'3'</td>\n",
       "      <td>'right'</td>\n",
       "      <td>'left_low'</td>\n",
       "      <td>'yes'</td>\n",
       "      <td>'no-recurrence-events'</td>\n",
       "    </tr>\n",
       "    <tr>\n",
       "      <th>4</th>\n",
       "      <td>'40-49'</td>\n",
       "      <td>'premeno'</td>\n",
       "      <td>'30-34'</td>\n",
       "      <td>'3-5'</td>\n",
       "      <td>'yes'</td>\n",
       "      <td>'2'</td>\n",
       "      <td>'left'</td>\n",
       "      <td>'right_up'</td>\n",
       "      <td>'no'</td>\n",
       "      <td>'recurrence-events'</td>\n",
       "    </tr>\n",
       "  </tbody>\n",
       "</table>\n",
       "</div>"
      ],
      "text/plain": [
       "       age  menopause tumor-size inv-nodes node-caps deg-malig   breast  \\\n",
       "0  '40-49'  'premeno'    '15-19'     '0-2'     'yes'       '3'  'right'   \n",
       "1  '50-59'     'ge40'    '15-19'     '0-2'      'no'       '1'  'right'   \n",
       "2  '50-59'     'ge40'    '35-39'     '0-2'      'no'       '2'   'left'   \n",
       "3  '40-49'  'premeno'    '35-39'     '0-2'     'yes'       '3'  'right'   \n",
       "4  '40-49'  'premeno'    '30-34'     '3-5'     'yes'       '2'   'left'   \n",
       "\n",
       "  breast-quad irradiant                   class  \n",
       "0   'left_up'      'no'     'recurrence-events'  \n",
       "1   'central'      'no'  'no-recurrence-events'  \n",
       "2  'left_low'      'no'     'recurrence-events'  \n",
       "3  'left_low'     'yes'  'no-recurrence-events'  \n",
       "4  'right_up'      'no'     'recurrence-events'  "
      ]
     },
     "execution_count": 6,
     "metadata": {},
     "output_type": "execute_result"
    }
   ],
   "source": [
    "df.head()"
   ]
  },
  {
   "cell_type": "markdown",
   "metadata": {},
   "source": [
    "Checking for missing values"
   ]
  },
  {
   "cell_type": "code",
   "execution_count": 7,
   "metadata": {},
   "outputs": [],
   "source": [
    "df = df.replace('?', np.nan)"
   ]
  },
  {
   "cell_type": "code",
   "execution_count": 8,
   "metadata": {},
   "outputs": [
    {
     "data": {
      "text/plain": [
       "<matplotlib.axes._subplots.AxesSubplot at 0x28dad183e48>"
      ]
     },
     "execution_count": 8,
     "metadata": {},
     "output_type": "execute_result"
    }
   ],
   "source": [
    "import missingno as msno\n",
    "\n",
    "msno.matrix(df.iloc[:,0:16],figsize=(16,2))"
   ]
  },
  {
   "cell_type": "code",
   "execution_count": 9,
   "metadata": {
    "scrolled": true
   },
   "outputs": [
    {
     "data": {
      "text/plain": [
       "1"
      ]
     },
     "execution_count": 9,
     "metadata": {},
     "output_type": "execute_result"
    }
   ],
   "source": [
    "df['breast-quad'].isna().sum()"
   ]
  },
  {
   "cell_type": "markdown",
   "metadata": {},
   "source": [
    "Only a single missing value in the entire dataset. Easier to just remove the row. Or so I tought. Seems like missingno cannot be trusted."
   ]
  },
  {
   "cell_type": "code",
   "execution_count": 10,
   "metadata": {},
   "outputs": [
    {
     "data": {
      "text/plain": [
       "8"
      ]
     },
     "execution_count": 10,
     "metadata": {},
     "output_type": "execute_result"
    }
   ],
   "source": [
    "df['node-caps'].isna().sum()"
   ]
  },
  {
   "cell_type": "markdown",
   "metadata": {},
   "source": [
    "node-caps also has null values. Anyways, let's just drop them all."
   ]
  },
  {
   "cell_type": "code",
   "execution_count": 11,
   "metadata": {
    "scrolled": true
   },
   "outputs": [
    {
     "data": {
      "text/plain": [
       "age            286\n",
       "menopause      286\n",
       "tumor-size     286\n",
       "inv-nodes      286\n",
       "node-caps      278\n",
       "deg-malig      286\n",
       "breast         286\n",
       "breast-quad    285\n",
       "irradiant      286\n",
       "class          286\n",
       "dtype: int64"
      ]
     },
     "execution_count": 11,
     "metadata": {},
     "output_type": "execute_result"
    }
   ],
   "source": [
    "df.count()"
   ]
  },
  {
   "cell_type": "code",
   "execution_count": 12,
   "metadata": {},
   "outputs": [],
   "source": [
    "df.dropna(inplace = True)"
   ]
  },
  {
   "cell_type": "code",
   "execution_count": 13,
   "metadata": {},
   "outputs": [
    {
     "data": {
      "text/plain": [
       "age            277\n",
       "menopause      277\n",
       "tumor-size     277\n",
       "inv-nodes      277\n",
       "node-caps      277\n",
       "deg-malig      277\n",
       "breast         277\n",
       "breast-quad    277\n",
       "irradiant      277\n",
       "class          277\n",
       "dtype: int64"
      ]
     },
     "execution_count": 13,
     "metadata": {},
     "output_type": "execute_result"
    }
   ],
   "source": [
    "df.count()"
   ]
  },
  {
   "cell_type": "markdown",
   "metadata": {},
   "source": [
    "## Splitting data"
   ]
  },
  {
   "cell_type": "code",
   "execution_count": 14,
   "metadata": {},
   "outputs": [],
   "source": [
    "from sklearn.model_selection import train_test_split\n",
    "\n",
    "x_data = df.drop(labels=['class'], axis=1)\n",
    "y_data = df['class']\n",
    "\n",
    "x_train, x_test, y_train, y_test = train_test_split(x_data, \n",
    "                                                    y_data, \n",
    "                                                    test_size=0.2, \n",
    "                                                    random_state=42)"
   ]
  },
  {
   "cell_type": "code",
   "execution_count": 15,
   "metadata": {},
   "outputs": [
    {
     "data": {
      "text/plain": [
       "array([\"'no-recurrence-events'\", \"'recurrence-events'\"], dtype=object)"
      ]
     },
     "execution_count": 15,
     "metadata": {},
     "output_type": "execute_result"
    }
   ],
   "source": [
    "y_test.unique()"
   ]
  },
  {
   "cell_type": "markdown",
   "metadata": {},
   "source": [
    "Spontaneously decided to try the sklearn implmenetation."
   ]
  },
  {
   "cell_type": "code",
   "execution_count": 16,
   "metadata": {},
   "outputs": [],
   "source": [
    "from sklearn import tree\n",
    "clf = tree.DecisionTreeClassifier()"
   ]
  },
  {
   "cell_type": "code",
   "execution_count": 17,
   "metadata": {
    "scrolled": true
   },
   "outputs": [
    {
     "ename": "ValueError",
     "evalue": "could not convert string to float: \"'no'\"",
     "output_type": "error",
     "traceback": [
      "\u001b[1;31m---------------------------------------------------------------------------\u001b[0m",
      "\u001b[1;31mValueError\u001b[0m                                Traceback (most recent call last)",
      "\u001b[1;32m<ipython-input-17-5c93c534242c>\u001b[0m in \u001b[0;36m<module>\u001b[1;34m()\u001b[0m\n\u001b[1;32m----> 1\u001b[1;33m \u001b[0mclf\u001b[0m\u001b[1;33m.\u001b[0m\u001b[0mfit\u001b[0m\u001b[1;33m(\u001b[0m\u001b[0mx_train\u001b[0m\u001b[1;33m,\u001b[0m \u001b[0my_train\u001b[0m\u001b[1;33m)\u001b[0m\u001b[1;33m\u001b[0m\u001b[0m\n\u001b[0m",
      "\u001b[1;32md:\\installations\\programs\\python 3.6.2\\lib\\site-packages\\sklearn\\tree\\tree.py\u001b[0m in \u001b[0;36mfit\u001b[1;34m(self, X, y, sample_weight, check_input, X_idx_sorted)\u001b[0m\n\u001b[0;32m    788\u001b[0m             \u001b[0msample_weight\u001b[0m\u001b[1;33m=\u001b[0m\u001b[0msample_weight\u001b[0m\u001b[1;33m,\u001b[0m\u001b[1;33m\u001b[0m\u001b[0m\n\u001b[0;32m    789\u001b[0m             \u001b[0mcheck_input\u001b[0m\u001b[1;33m=\u001b[0m\u001b[0mcheck_input\u001b[0m\u001b[1;33m,\u001b[0m\u001b[1;33m\u001b[0m\u001b[0m\n\u001b[1;32m--> 790\u001b[1;33m             X_idx_sorted=X_idx_sorted)\n\u001b[0m\u001b[0;32m    791\u001b[0m         \u001b[1;32mreturn\u001b[0m \u001b[0mself\u001b[0m\u001b[1;33m\u001b[0m\u001b[0m\n\u001b[0;32m    792\u001b[0m \u001b[1;33m\u001b[0m\u001b[0m\n",
      "\u001b[1;32md:\\installations\\programs\\python 3.6.2\\lib\\site-packages\\sklearn\\tree\\tree.py\u001b[0m in \u001b[0;36mfit\u001b[1;34m(self, X, y, sample_weight, check_input, X_idx_sorted)\u001b[0m\n\u001b[0;32m    114\u001b[0m         \u001b[0mrandom_state\u001b[0m \u001b[1;33m=\u001b[0m \u001b[0mcheck_random_state\u001b[0m\u001b[1;33m(\u001b[0m\u001b[0mself\u001b[0m\u001b[1;33m.\u001b[0m\u001b[0mrandom_state\u001b[0m\u001b[1;33m)\u001b[0m\u001b[1;33m\u001b[0m\u001b[0m\n\u001b[0;32m    115\u001b[0m         \u001b[1;32mif\u001b[0m \u001b[0mcheck_input\u001b[0m\u001b[1;33m:\u001b[0m\u001b[1;33m\u001b[0m\u001b[0m\n\u001b[1;32m--> 116\u001b[1;33m             \u001b[0mX\u001b[0m \u001b[1;33m=\u001b[0m \u001b[0mcheck_array\u001b[0m\u001b[1;33m(\u001b[0m\u001b[0mX\u001b[0m\u001b[1;33m,\u001b[0m \u001b[0mdtype\u001b[0m\u001b[1;33m=\u001b[0m\u001b[0mDTYPE\u001b[0m\u001b[1;33m,\u001b[0m \u001b[0maccept_sparse\u001b[0m\u001b[1;33m=\u001b[0m\u001b[1;34m\"csc\"\u001b[0m\u001b[1;33m)\u001b[0m\u001b[1;33m\u001b[0m\u001b[0m\n\u001b[0m\u001b[0;32m    117\u001b[0m             \u001b[0my\u001b[0m \u001b[1;33m=\u001b[0m \u001b[0mcheck_array\u001b[0m\u001b[1;33m(\u001b[0m\u001b[0my\u001b[0m\u001b[1;33m,\u001b[0m \u001b[0mensure_2d\u001b[0m\u001b[1;33m=\u001b[0m\u001b[1;32mFalse\u001b[0m\u001b[1;33m,\u001b[0m \u001b[0mdtype\u001b[0m\u001b[1;33m=\u001b[0m\u001b[1;32mNone\u001b[0m\u001b[1;33m)\u001b[0m\u001b[1;33m\u001b[0m\u001b[0m\n\u001b[0;32m    118\u001b[0m             \u001b[1;32mif\u001b[0m \u001b[0missparse\u001b[0m\u001b[1;33m(\u001b[0m\u001b[0mX\u001b[0m\u001b[1;33m)\u001b[0m\u001b[1;33m:\u001b[0m\u001b[1;33m\u001b[0m\u001b[0m\n",
      "\u001b[1;32md:\\installations\\programs\\python 3.6.2\\lib\\site-packages\\sklearn\\utils\\validation.py\u001b[0m in \u001b[0;36mcheck_array\u001b[1;34m(array, accept_sparse, dtype, order, copy, force_all_finite, ensure_2d, allow_nd, ensure_min_samples, ensure_min_features, warn_on_dtype, estimator)\u001b[0m\n\u001b[0;32m    431\u001b[0m                                       force_all_finite)\n\u001b[0;32m    432\u001b[0m     \u001b[1;32melse\u001b[0m\u001b[1;33m:\u001b[0m\u001b[1;33m\u001b[0m\u001b[0m\n\u001b[1;32m--> 433\u001b[1;33m         \u001b[0marray\u001b[0m \u001b[1;33m=\u001b[0m \u001b[0mnp\u001b[0m\u001b[1;33m.\u001b[0m\u001b[0marray\u001b[0m\u001b[1;33m(\u001b[0m\u001b[0marray\u001b[0m\u001b[1;33m,\u001b[0m \u001b[0mdtype\u001b[0m\u001b[1;33m=\u001b[0m\u001b[0mdtype\u001b[0m\u001b[1;33m,\u001b[0m \u001b[0morder\u001b[0m\u001b[1;33m=\u001b[0m\u001b[0morder\u001b[0m\u001b[1;33m,\u001b[0m \u001b[0mcopy\u001b[0m\u001b[1;33m=\u001b[0m\u001b[0mcopy\u001b[0m\u001b[1;33m)\u001b[0m\u001b[1;33m\u001b[0m\u001b[0m\n\u001b[0m\u001b[0;32m    434\u001b[0m \u001b[1;33m\u001b[0m\u001b[0m\n\u001b[0;32m    435\u001b[0m         \u001b[1;32mif\u001b[0m \u001b[0mensure_2d\u001b[0m\u001b[1;33m:\u001b[0m\u001b[1;33m\u001b[0m\u001b[0m\n",
      "\u001b[1;31mValueError\u001b[0m: could not convert string to float: \"'no'\""
     ]
    }
   ],
   "source": [
    "clf.fit(x_train, y_train)"
   ]
  },
  {
   "cell_type": "markdown",
   "metadata": {},
   "source": [
    "Seems like I cannot pass string values to the decision tree. I must encode them beforehand. - https://stackoverflow.com/questions/30384995/randomforestclassfier-fit-valueerror-could-not-convert-string-to-float"
   ]
  },
  {
   "cell_type": "code",
   "execution_count": 18,
   "metadata": {},
   "outputs": [
    {
     "data": {
      "text/plain": [
       "LabelEncoder()"
      ]
     },
     "execution_count": 18,
     "metadata": {},
     "output_type": "execute_result"
    }
   ],
   "source": [
    "from sklearn import preprocessing\n",
    "\n",
    "le = preprocessing.LabelEncoder()\n",
    "le.fit(y_train)"
   ]
  },
  {
   "cell_type": "code",
   "execution_count": 19,
   "metadata": {},
   "outputs": [
    {
     "data": {
      "text/plain": [
       "array([0, 0, 0, 1, 0, 0, 0, 1, 0, 1, 1, 0, 1, 0, 0, 0, 1, 0, 0, 1, 1, 1,\n",
       "       0, 1, 0, 1, 0, 1, 1, 1, 1, 0, 0, 0, 0, 0, 0, 0, 0, 0, 0, 0, 0, 0,\n",
       "       0, 0, 0, 1, 0, 1, 0, 0, 0, 1, 1, 0, 1, 0, 1, 0, 0, 1, 1, 0, 1, 0,\n",
       "       0, 0, 0, 0, 1, 1, 0, 0, 1, 1, 0, 0, 0, 1, 0, 0, 0, 1, 1, 0, 1, 0,\n",
       "       1, 1, 0, 0, 0, 0, 1, 0, 1, 0, 1, 0, 0, 0, 1, 0, 0, 0, 0, 0, 0, 1,\n",
       "       1, 1, 1, 1, 0, 0, 0, 0, 0, 0, 0, 0, 0, 0, 1, 1, 0, 0, 0, 0, 0, 0,\n",
       "       0, 1, 0, 1, 0, 0, 0, 1, 0, 1, 0, 0, 0, 1, 0, 0, 0, 0, 0, 0, 0, 0,\n",
       "       1, 0, 0, 1, 0, 0, 0, 0, 0, 1, 1, 1, 1, 0, 0, 1, 0, 0, 0, 0, 1, 0,\n",
       "       0, 0, 1, 0, 0, 1, 0, 1, 0, 0, 0, 0, 0, 1, 1, 0, 1, 1, 0, 0, 0, 0,\n",
       "       0, 0, 0, 0, 0, 0, 0, 0, 0, 1, 0, 0, 1, 0, 0, 0, 0, 0, 0, 0, 0, 0,\n",
       "       0], dtype=int64)"
      ]
     },
     "execution_count": 19,
     "metadata": {},
     "output_type": "execute_result"
    }
   ],
   "source": [
    "le.transform(y_train) "
   ]
  },
  {
   "cell_type": "code",
   "execution_count": 20,
   "metadata": {},
   "outputs": [],
   "source": [
    "x_train_encoded = x_train.copy()\n",
    "\n",
    "for column in x_train.columns:\n",
    "    le.fit(x_train[column])\n",
    "    x_train_encoded[column] = le.transform(x_train[column])"
   ]
  },
  {
   "cell_type": "code",
   "execution_count": 21,
   "metadata": {
    "scrolled": true
   },
   "outputs": [
    {
     "data": {
      "text/html": [
       "<div>\n",
       "<style scoped>\n",
       "    .dataframe tbody tr th:only-of-type {\n",
       "        vertical-align: middle;\n",
       "    }\n",
       "\n",
       "    .dataframe tbody tr th {\n",
       "        vertical-align: top;\n",
       "    }\n",
       "\n",
       "    .dataframe thead th {\n",
       "        text-align: right;\n",
       "    }\n",
       "</style>\n",
       "<table border=\"1\" class=\"dataframe\">\n",
       "  <thead>\n",
       "    <tr style=\"text-align: right;\">\n",
       "      <th></th>\n",
       "      <th>age</th>\n",
       "      <th>menopause</th>\n",
       "      <th>tumor-size</th>\n",
       "      <th>inv-nodes</th>\n",
       "      <th>node-caps</th>\n",
       "      <th>deg-malig</th>\n",
       "      <th>breast</th>\n",
       "      <th>breast-quad</th>\n",
       "      <th>irradiant</th>\n",
       "    </tr>\n",
       "  </thead>\n",
       "  <tbody>\n",
       "    <tr>\n",
       "      <th>268</th>\n",
       "      <td>3</td>\n",
       "      <td>0</td>\n",
       "      <td>5</td>\n",
       "      <td>0</td>\n",
       "      <td>0</td>\n",
       "      <td>0</td>\n",
       "      <td>0</td>\n",
       "      <td>2</td>\n",
       "      <td>0</td>\n",
       "    </tr>\n",
       "    <tr>\n",
       "      <th>130</th>\n",
       "      <td>1</td>\n",
       "      <td>2</td>\n",
       "      <td>5</td>\n",
       "      <td>0</td>\n",
       "      <td>0</td>\n",
       "      <td>1</td>\n",
       "      <td>0</td>\n",
       "      <td>3</td>\n",
       "      <td>0</td>\n",
       "    </tr>\n",
       "    <tr>\n",
       "      <th>35</th>\n",
       "      <td>0</td>\n",
       "      <td>2</td>\n",
       "      <td>2</td>\n",
       "      <td>0</td>\n",
       "      <td>0</td>\n",
       "      <td>0</td>\n",
       "      <td>0</td>\n",
       "      <td>1</td>\n",
       "      <td>0</td>\n",
       "    </tr>\n",
       "    <tr>\n",
       "      <th>91</th>\n",
       "      <td>0</td>\n",
       "      <td>2</td>\n",
       "      <td>5</td>\n",
       "      <td>4</td>\n",
       "      <td>0</td>\n",
       "      <td>2</td>\n",
       "      <td>1</td>\n",
       "      <td>2</td>\n",
       "      <td>1</td>\n",
       "    </tr>\n",
       "    <tr>\n",
       "      <th>272</th>\n",
       "      <td>0</td>\n",
       "      <td>2</td>\n",
       "      <td>3</td>\n",
       "      <td>4</td>\n",
       "      <td>1</td>\n",
       "      <td>1</td>\n",
       "      <td>1</td>\n",
       "      <td>2</td>\n",
       "      <td>1</td>\n",
       "    </tr>\n",
       "  </tbody>\n",
       "</table>\n",
       "</div>"
      ],
      "text/plain": [
       "     age  menopause  tumor-size  inv-nodes  node-caps  deg-malig  breast  \\\n",
       "268    3          0           5          0          0          0       0   \n",
       "130    1          2           5          0          0          1       0   \n",
       "35     0          2           2          0          0          0       0   \n",
       "91     0          2           5          4          0          2       1   \n",
       "272    0          2           3          4          1          1       1   \n",
       "\n",
       "     breast-quad  irradiant  \n",
       "268            2          0  \n",
       "130            3          0  \n",
       "35             1          0  \n",
       "91             2          1  \n",
       "272            2          1  "
      ]
     },
     "execution_count": 21,
     "metadata": {},
     "output_type": "execute_result"
    }
   ],
   "source": [
    "x_train_encoded.head()"
   ]
  },
  {
   "cell_type": "code",
   "execution_count": 22,
   "metadata": {},
   "outputs": [],
   "source": [
    "le.fit(y_train)\n",
    "y_train_encoded = le.transform(y_train)"
   ]
  },
  {
   "cell_type": "code",
   "execution_count": 23,
   "metadata": {},
   "outputs": [
    {
     "data": {
      "text/plain": [
       "DecisionTreeClassifier(class_weight=None, criterion='gini', max_depth=None,\n",
       "            max_features=None, max_leaf_nodes=None,\n",
       "            min_impurity_decrease=0.0, min_impurity_split=None,\n",
       "            min_samples_leaf=1, min_samples_split=2,\n",
       "            min_weight_fraction_leaf=0.0, presort=False, random_state=None,\n",
       "            splitter='best')"
      ]
     },
     "execution_count": 23,
     "metadata": {},
     "output_type": "execute_result"
    }
   ],
   "source": [
    "clf.fit(x_train_encoded, y_train_encoded)"
   ]
  },
  {
   "cell_type": "code",
   "execution_count": 24,
   "metadata": {},
   "outputs": [],
   "source": [
    "x_test_encoded = x_test.copy()\n",
    "\n",
    "for column in x_test.columns:\n",
    "    le.fit(x_test[column])\n",
    "    x_test_encoded[column] = le.transform(x_test[column])"
   ]
  },
  {
   "cell_type": "code",
   "execution_count": 25,
   "metadata": {},
   "outputs": [
    {
     "data": {
      "text/plain": [
       "array([0, 0, 1, 0, 0, 0, 0, 0, 0, 0, 0, 1, 0, 1, 0, 0, 0, 0, 1, 0, 1, 1,\n",
       "       0, 0, 0, 0, 0, 0, 0, 0, 0, 1, 0, 0, 0, 0, 0, 1, 1, 0, 1, 1, 0, 0,\n",
       "       0, 0, 0, 0, 0, 0, 1, 1, 0, 0, 0, 0], dtype=int64)"
      ]
     },
     "execution_count": 25,
     "metadata": {},
     "output_type": "execute_result"
    }
   ],
   "source": [
    "y_test_predicted = clf.predict(x_test_encoded)\n",
    "y_test_predicted"
   ]
  },
  {
   "cell_type": "code",
   "execution_count": 26,
   "metadata": {},
   "outputs": [],
   "source": [
    "le.fit(y_test)\n",
    "y_test_encoded = le.transform(y_test)"
   ]
  },
  {
   "cell_type": "code",
   "execution_count": 27,
   "metadata": {},
   "outputs": [
    {
     "data": {
      "text/plain": [
       "array([0, 1, 0, 0, 1, 0, 0, 0, 0, 0, 0, 0, 1, 1, 0, 1, 0, 1, 0, 0, 0, 1,\n",
       "       0, 0, 0, 0, 0, 0, 0, 0, 0, 0, 0, 0, 0, 0, 0, 1, 0, 1, 0, 1, 1, 0,\n",
       "       0, 0, 0, 0, 1, 0, 1, 0, 0, 0, 1, 0], dtype=int64)"
      ]
     },
     "execution_count": 27,
     "metadata": {},
     "output_type": "execute_result"
    }
   ],
   "source": [
    "y_test_encoded"
   ]
  },
  {
   "cell_type": "code",
   "execution_count": 28,
   "metadata": {},
   "outputs": [
    {
     "data": {
      "text/plain": [
       "0.6964285714285714"
      ]
     },
     "execution_count": 28,
     "metadata": {},
     "output_type": "execute_result"
    }
   ],
   "source": [
    "from sklearn.metrics import accuracy_score\n",
    "\n",
    "accuracy_score(y_test_encoded, y_test_predicted)"
   ]
  },
  {
   "cell_type": "markdown",
   "metadata": {},
   "source": [
    "## ID3 Algoritm Implementation\n",
    "\n",
    "### Entropy"
   ]
  },
  {
   "cell_type": "markdown",
   "metadata": {},
   "source": [
    "Turns out, that for my implementation it's going to be easier to merge back the x and y columns."
   ]
  },
  {
   "cell_type": "code",
   "execution_count": 30,
   "metadata": {},
   "outputs": [],
   "source": [
    "train = pd.concat([x_train, y_train], axis=1)"
   ]
  },
  {
   "cell_type": "markdown",
   "metadata": {},
   "source": [
    "Now we can filter the dataframe by some column value and easily read the Y column."
   ]
  },
  {
   "cell_type": "code",
   "execution_count": 31,
   "metadata": {
    "scrolled": true
   },
   "outputs": [
    {
     "data": {
      "text/html": [
       "<div>\n",
       "<style scoped>\n",
       "    .dataframe tbody tr th:only-of-type {\n",
       "        vertical-align: middle;\n",
       "    }\n",
       "\n",
       "    .dataframe tbody tr th {\n",
       "        vertical-align: top;\n",
       "    }\n",
       "\n",
       "    .dataframe thead th {\n",
       "        text-align: right;\n",
       "    }\n",
       "</style>\n",
       "<table border=\"1\" class=\"dataframe\">\n",
       "  <thead>\n",
       "    <tr style=\"text-align: right;\">\n",
       "      <th></th>\n",
       "      <th>age</th>\n",
       "      <th>menopause</th>\n",
       "      <th>tumor-size</th>\n",
       "      <th>inv-nodes</th>\n",
       "      <th>node-caps</th>\n",
       "      <th>deg-malig</th>\n",
       "      <th>breast</th>\n",
       "      <th>breast-quad</th>\n",
       "      <th>irradiant</th>\n",
       "      <th>class</th>\n",
       "    </tr>\n",
       "  </thead>\n",
       "  <tbody>\n",
       "    <tr>\n",
       "      <th>253</th>\n",
       "      <td>'70-79'</td>\n",
       "      <td>'ge40'</td>\n",
       "      <td>'0-4'</td>\n",
       "      <td>'0-2'</td>\n",
       "      <td>'no'</td>\n",
       "      <td>'1'</td>\n",
       "      <td>'left'</td>\n",
       "      <td>'right_low'</td>\n",
       "      <td>'no'</td>\n",
       "      <td>'no-recurrence-events'</td>\n",
       "    </tr>\n",
       "    <tr>\n",
       "      <th>53</th>\n",
       "      <td>'70-79'</td>\n",
       "      <td>'ge40'</td>\n",
       "      <td>'40-44'</td>\n",
       "      <td>'0-2'</td>\n",
       "      <td>'no'</td>\n",
       "      <td>'1'</td>\n",
       "      <td>'right'</td>\n",
       "      <td>'right_up'</td>\n",
       "      <td>'no'</td>\n",
       "      <td>'no-recurrence-events'</td>\n",
       "    </tr>\n",
       "    <tr>\n",
       "      <th>260</th>\n",
       "      <td>'70-79'</td>\n",
       "      <td>'ge40'</td>\n",
       "      <td>'20-24'</td>\n",
       "      <td>'0-2'</td>\n",
       "      <td>'no'</td>\n",
       "      <td>'3'</td>\n",
       "      <td>'left'</td>\n",
       "      <td>'left_up'</td>\n",
       "      <td>'no'</td>\n",
       "      <td>'no-recurrence-events'</td>\n",
       "    </tr>\n",
       "  </tbody>\n",
       "</table>\n",
       "</div>"
      ],
      "text/plain": [
       "         age menopause tumor-size inv-nodes node-caps deg-malig   breast  \\\n",
       "253  '70-79'    'ge40'      '0-4'     '0-2'      'no'       '1'   'left'   \n",
       "53   '70-79'    'ge40'    '40-44'     '0-2'      'no'       '1'  'right'   \n",
       "260  '70-79'    'ge40'    '20-24'     '0-2'      'no'       '3'   'left'   \n",
       "\n",
       "     breast-quad irradiant                   class  \n",
       "253  'right_low'      'no'  'no-recurrence-events'  \n",
       "53    'right_up'      'no'  'no-recurrence-events'  \n",
       "260    'left_up'      'no'  'no-recurrence-events'  "
      ]
     },
     "execution_count": 31,
     "metadata": {},
     "output_type": "execute_result"
    }
   ],
   "source": [
    "train[train['age'] == \"'70-79'\"]"
   ]
  },
  {
   "cell_type": "code",
   "execution_count": 32,
   "metadata": {},
   "outputs": [
    {
     "data": {
      "text/plain": [
       "253    'no-recurrence-events'\n",
       "53     'no-recurrence-events'\n",
       "260    'no-recurrence-events'\n",
       "Name: class, dtype: object"
      ]
     },
     "execution_count": 32,
     "metadata": {},
     "output_type": "execute_result"
    }
   ],
   "source": [
    "train[train['age'] == \"'70-79'\"]['class']"
   ]
  },
  {
   "cell_type": "code",
   "execution_count": 33,
   "metadata": {},
   "outputs": [],
   "source": [
    "#columnData contains only the Y column\n",
    "def Entropy(columnData):\n",
    "    \n",
    "    entropy = 0\n",
    "    \n",
    "    for decision in columnData.unique():\n",
    "        decisionProbability = (columnData == decision).sum() / columnData.count()\n",
    "        \n",
    "        entropy = entropy - decisionProbability * np.log2(decisionProbability)\n",
    "        \n",
    "    return entropy\n",
    "    \n",
    "#     positiveProbability = (columnData == decision).sum() / columnData.count()\n",
    "#     negativeProbability = (columnData != decision).sum() / columnData.count()\n",
    "    \n",
    "#     #Special case when we need to compute 0 times -infinity\n",
    "#     if(positiveProbability == 0 or positiveProbability == 1):\n",
    "#         return 0\n",
    "    \n",
    "#     return - positiveProbability * np.log2(positiveProbability) - negativeProbability * np.log2(negativeProbability)"
   ]
  },
  {
   "cell_type": "code",
   "execution_count": 35,
   "metadata": {},
   "outputs": [
    {
     "data": {
      "text/plain": [
       "0.9990102708804813"
      ]
     },
     "execution_count": 35,
     "metadata": {},
     "output_type": "execute_result"
    }
   ],
   "source": [
    "Entropy(train[train['age'] == \"'30-39'\"]['class'])"
   ]
  },
  {
   "cell_type": "markdown",
   "metadata": {},
   "source": [
    "Entropy is very high, as the split between *no-recurrence-events* and *recurrence-events* is almost 50/50 - *14/13*."
   ]
  },
  {
   "cell_type": "markdown",
   "metadata": {},
   "source": [
    "### Gain"
   ]
  },
  {
   "cell_type": "code",
   "execution_count": 36,
   "metadata": {},
   "outputs": [],
   "source": [
    "#Dataframe for the node we're in, name of the column the next node could be, name of the decision column\n",
    "def Gain(df, columnName, className):\n",
    "    gain = 0\n",
    "    \n",
    "    gain = gain + Entropy(df[className])\n",
    "    \n",
    "    for value in df[columnName].unique():\n",
    "        valueRows = df[df[columnName] == value]\n",
    "        valueRowsCount = valueRows.count().iloc[0]\n",
    "        totalRows = df.count().iloc[0]\n",
    "                \n",
    "        gain = gain - valueRowsCount / totalRows * Entropy(valueRows[className])\n",
    "    \n",
    "    return gain"
   ]
  },
  {
   "cell_type": "code",
   "execution_count": 37,
   "metadata": {},
   "outputs": [
    {
     "data": {
      "text/plain": [
       "0.02288886134864976"
      ]
     },
     "execution_count": 37,
     "metadata": {},
     "output_type": "execute_result"
    }
   ],
   "source": [
    "Gain(train, 'age', 'class')"
   ]
  },
  {
   "cell_type": "markdown",
   "metadata": {},
   "source": [
    "### Tree"
   ]
  },
  {
   "cell_type": "code",
   "execution_count": 87,
   "metadata": {},
   "outputs": [],
   "source": [
    "class Node:\n",
    "                \n",
    "    #value\n",
    "    #Node children \n",
    "    #isLeaf\n",
    "    \n",
    "    #Constructor\n",
    "    def __init__(self, value, isLeaf = False):\n",
    "        self.value = value\n",
    "        self.children = {}\n",
    "        self.isLeaf = isLeaf\n",
    "        \n",
    "    #Getters\n",
    "    def Value(self):\n",
    "        return self.value\n",
    "    \n",
    "    def IsLeafNode(self):\n",
    "        return self.isLeaf\n",
    "    \n",
    "    def Children(self):\n",
    "        return self.children\n",
    "    \n",
    "    #Setters    \n",
    "    def AddChild(self, name, node):\n",
    "        self.children[name] = node\n",
    "        \n",
    "class Tree:\n",
    "    \n",
    "    def __init__(self, head):\n",
    "        self.head = head\n",
    "        \n",
    "    #Getters\n",
    "    def Head(self):\n",
    "        return self.head"
   ]
  },
  {
   "cell_type": "code",
   "execution_count": 88,
   "metadata": {},
   "outputs": [
    {
     "data": {
      "text/plain": [
       "'age'"
      ]
     },
     "execution_count": 88,
     "metadata": {},
     "output_type": "execute_result"
    }
   ],
   "source": [
    "node = Node('age')\n",
    "node.Value()"
   ]
  },
  {
   "cell_type": "code",
   "execution_count": 89,
   "metadata": {},
   "outputs": [
    {
     "data": {
      "text/plain": [
       "False"
      ]
     },
     "execution_count": 89,
     "metadata": {},
     "output_type": "execute_result"
    }
   ],
   "source": [
    "node.IsLeafNode()"
   ]
  },
  {
   "cell_type": "code",
   "execution_count": 90,
   "metadata": {},
   "outputs": [
    {
     "data": {
      "text/plain": [
       "True"
      ]
     },
     "execution_count": 90,
     "metadata": {},
     "output_type": "execute_result"
    }
   ],
   "source": [
    "child = Node('class', True)\n",
    "node.AddChild('class', child)\n",
    "node.Children()['class'].IsLeafNode()"
   ]
  },
  {
   "cell_type": "code",
   "execution_count": 42,
   "metadata": {
    "scrolled": true
   },
   "outputs": [
    {
     "data": {
      "text/plain": [
       "'age'"
      ]
     },
     "execution_count": 42,
     "metadata": {},
     "output_type": "execute_result"
    }
   ],
   "source": [
    "tree = Tree(node)\n",
    "tree.Head().Value()"
   ]
  },
  {
   "cell_type": "markdown",
   "metadata": {},
   "source": [
    "### Constructing the decision tree"
   ]
  },
  {
   "attachments": {},
   "cell_type": "markdown",
   "metadata": {},
   "source": [
    "Let's try it with the weather data. It's simpler and we know the desired outcome.\n",
    "\n",
    "!['Weather decision tree'](https://i0.wp.com/sefiks.com/wp-content/uploads/2017/11/tree-v3.png)\n"
   ]
  },
  {
   "cell_type": "code",
   "execution_count": 116,
   "metadata": {},
   "outputs": [
    {
     "data": {
      "text/html": [
       "<div>\n",
       "<style scoped>\n",
       "    .dataframe tbody tr th:only-of-type {\n",
       "        vertical-align: middle;\n",
       "    }\n",
       "\n",
       "    .dataframe tbody tr th {\n",
       "        vertical-align: top;\n",
       "    }\n",
       "\n",
       "    .dataframe thead th {\n",
       "        text-align: right;\n",
       "    }\n",
       "</style>\n",
       "<table border=\"1\" class=\"dataframe\">\n",
       "  <thead>\n",
       "    <tr style=\"text-align: right;\">\n",
       "      <th></th>\n",
       "      <th>Outlook</th>\n",
       "      <th>Temp</th>\n",
       "      <th>Humidity</th>\n",
       "      <th>Wind</th>\n",
       "      <th>Decision</th>\n",
       "    </tr>\n",
       "  </thead>\n",
       "  <tbody>\n",
       "    <tr>\n",
       "      <th>0</th>\n",
       "      <td>Sunny</td>\n",
       "      <td>Hot</td>\n",
       "      <td>High</td>\n",
       "      <td>Weak</td>\n",
       "      <td>No</td>\n",
       "    </tr>\n",
       "    <tr>\n",
       "      <th>1</th>\n",
       "      <td>Sunny</td>\n",
       "      <td>Hot</td>\n",
       "      <td>High</td>\n",
       "      <td>Strong</td>\n",
       "      <td>No</td>\n",
       "    </tr>\n",
       "    <tr>\n",
       "      <th>2</th>\n",
       "      <td>Overcast</td>\n",
       "      <td>Hot</td>\n",
       "      <td>High</td>\n",
       "      <td>Weak</td>\n",
       "      <td>Yes</td>\n",
       "    </tr>\n",
       "    <tr>\n",
       "      <th>3</th>\n",
       "      <td>Rain</td>\n",
       "      <td>Mild</td>\n",
       "      <td>High</td>\n",
       "      <td>Weak</td>\n",
       "      <td>Yes</td>\n",
       "    </tr>\n",
       "    <tr>\n",
       "      <th>4</th>\n",
       "      <td>Rain</td>\n",
       "      <td>Cool</td>\n",
       "      <td>Normal</td>\n",
       "      <td>Weak</td>\n",
       "      <td>Yes</td>\n",
       "    </tr>\n",
       "    <tr>\n",
       "      <th>5</th>\n",
       "      <td>Rain</td>\n",
       "      <td>Cool</td>\n",
       "      <td>Normal</td>\n",
       "      <td>Strong</td>\n",
       "      <td>No</td>\n",
       "    </tr>\n",
       "    <tr>\n",
       "      <th>6</th>\n",
       "      <td>Overcast</td>\n",
       "      <td>Cool</td>\n",
       "      <td>Normal</td>\n",
       "      <td>Strong</td>\n",
       "      <td>Yes</td>\n",
       "    </tr>\n",
       "    <tr>\n",
       "      <th>7</th>\n",
       "      <td>Sunny</td>\n",
       "      <td>Mild</td>\n",
       "      <td>High</td>\n",
       "      <td>Weak</td>\n",
       "      <td>No</td>\n",
       "    </tr>\n",
       "    <tr>\n",
       "      <th>8</th>\n",
       "      <td>Sunny</td>\n",
       "      <td>Cool</td>\n",
       "      <td>Normal</td>\n",
       "      <td>Weak</td>\n",
       "      <td>Yes</td>\n",
       "    </tr>\n",
       "    <tr>\n",
       "      <th>9</th>\n",
       "      <td>Rain</td>\n",
       "      <td>Mild</td>\n",
       "      <td>Normal</td>\n",
       "      <td>Weak</td>\n",
       "      <td>Yes</td>\n",
       "    </tr>\n",
       "    <tr>\n",
       "      <th>10</th>\n",
       "      <td>Sunny</td>\n",
       "      <td>Mild</td>\n",
       "      <td>Normal</td>\n",
       "      <td>Strong</td>\n",
       "      <td>Yes</td>\n",
       "    </tr>\n",
       "    <tr>\n",
       "      <th>11</th>\n",
       "      <td>Overcast</td>\n",
       "      <td>Mild</td>\n",
       "      <td>High</td>\n",
       "      <td>Strong</td>\n",
       "      <td>Yes</td>\n",
       "    </tr>\n",
       "    <tr>\n",
       "      <th>12</th>\n",
       "      <td>Overcast</td>\n",
       "      <td>Hot</td>\n",
       "      <td>Normal</td>\n",
       "      <td>Weak</td>\n",
       "      <td>Yes</td>\n",
       "    </tr>\n",
       "    <tr>\n",
       "      <th>13</th>\n",
       "      <td>Rain</td>\n",
       "      <td>Mild</td>\n",
       "      <td>High</td>\n",
       "      <td>Strong</td>\n",
       "      <td>No</td>\n",
       "    </tr>\n",
       "  </tbody>\n",
       "</table>\n",
       "</div>"
      ],
      "text/plain": [
       "     Outlook  Temp Humidity    Wind Decision\n",
       "0      Sunny   Hot     High    Weak       No\n",
       "1      Sunny   Hot     High  Strong       No\n",
       "2   Overcast   Hot     High    Weak      Yes\n",
       "3       Rain  Mild     High    Weak      Yes\n",
       "4       Rain  Cool   Normal    Weak      Yes\n",
       "5       Rain  Cool   Normal  Strong       No\n",
       "6   Overcast  Cool   Normal  Strong      Yes\n",
       "7      Sunny  Mild     High    Weak       No\n",
       "8      Sunny  Cool   Normal    Weak      Yes\n",
       "9       Rain  Mild   Normal    Weak      Yes\n",
       "10     Sunny  Mild   Normal  Strong      Yes\n",
       "11  Overcast  Mild     High  Strong      Yes\n",
       "12  Overcast   Hot   Normal    Weak      Yes\n",
       "13      Rain  Mild     High  Strong       No"
      ]
     },
     "execution_count": 116,
     "metadata": {},
     "output_type": "execute_result"
    }
   ],
   "source": [
    "weather = pd.read_csv('data\\weather.csv', header = 0)\n",
    "weather"
   ]
  },
  {
   "cell_type": "code",
   "execution_count": 220,
   "metadata": {},
   "outputs": [],
   "source": [
    "import operator\n",
    "\n",
    "#Dataframe left, column names that have already been visited up to the root, decision column name\n",
    "def AddNode(df, excludedColumns, decisionColumn):\n",
    "    treshold = 0\n",
    "    gains = {}\n",
    "\n",
    "    #Explore the gain for each column in the dataframe, excluding the already visited columns up to the root\n",
    "    for column in df.columns:\n",
    "        if column not in excludedColumns:\n",
    "            gains[column] = Gain(df, column, decisionColumn)\n",
    "\n",
    "    #Select the column with the highest gain\n",
    "    maxGain = max(gains.items(), key=operator.itemgetter(1))[1]\n",
    "    maxGainColumn = max(gains.items(), key=operator.itemgetter(1))[0]\n",
    "\n",
    "    #If the gain is above the treshold, recursively explore the gain for each unique value in the column\n",
    "    if maxGain > treshold:\n",
    "        newNode = Node(maxGainColumn, False)\n",
    "        excludedColumnsPath = excludedColumns.copy()\n",
    "        excludedColumnsPath.append(maxGainColumn)\n",
    "        \n",
    "        #For each value in the column, explore the options for another branch node\n",
    "        for columnValue in df[maxGainColumn].unique():\n",
    "            childNode = AddNode(df[df[maxGainColumn] == columnValue], excludedColumnsPath, decisionColumn)\n",
    "            newNode.AddChild(columnValue, childNode)\n",
    "\n",
    "        return newNode\n",
    "    #If the gain is below the treshold, then we choose the most common decision as a leaf node\n",
    "    else:\n",
    "        decision = df[decisionColumn].value_counts().idxmax()\n",
    "        return Node(decision, True)\n",
    "    "
   ]
  },
  {
   "cell_type": "code",
   "execution_count": 221,
   "metadata": {
    "scrolled": false
   },
   "outputs": [],
   "source": [
    "visitedColumns = ['Decision']\n",
    "decisionColumn = 'Decision'\n",
    "\n",
    "headNode = AddNode(weather, visitedColumns, decisionColumn)    "
   ]
  },
  {
   "cell_type": "code",
   "execution_count": 223,
   "metadata": {},
   "outputs": [],
   "source": [
    "def PrintChildren(node, space):\n",
    "    #print(space, node.Value())\n",
    "    for childKey, childValue in node.Children().items():    \n",
    "        print(space, childKey, '->', childValue.Value().upper())\n",
    "        PrintChildren(childValue, space + '  ')\n",
    "        \n",
    "def PrintTree(head):\n",
    "    print(head.Value().upper())\n",
    "    PrintChildren(head, ' ')"
   ]
  },
  {
   "cell_type": "code",
   "execution_count": 224,
   "metadata": {},
   "outputs": [
    {
     "name": "stdout",
     "output_type": "stream",
     "text": [
      "OUTLOOK\n",
      "  Sunny -> HUMIDITY\n",
      "    High -> NO\n",
      "    Normal -> YES\n",
      "  Overcast -> YES\n",
      "  Rain -> WIND\n",
      "    Weak -> YES\n",
      "    Strong -> NO\n"
     ]
    }
   ],
   "source": [
    "PrintTree(headNode)"
   ]
  },
  {
   "cell_type": "markdown",
   "metadata": {},
   "source": [
    "Hooray! The tree is correct! Now let's pray it'll work for the breast cancer dataset as well."
   ]
  },
  {
   "cell_type": "code",
   "execution_count": 225,
   "metadata": {},
   "outputs": [
    {
     "data": {
      "text/html": [
       "<div>\n",
       "<style scoped>\n",
       "    .dataframe tbody tr th:only-of-type {\n",
       "        vertical-align: middle;\n",
       "    }\n",
       "\n",
       "    .dataframe tbody tr th {\n",
       "        vertical-align: top;\n",
       "    }\n",
       "\n",
       "    .dataframe thead th {\n",
       "        text-align: right;\n",
       "    }\n",
       "</style>\n",
       "<table border=\"1\" class=\"dataframe\">\n",
       "  <thead>\n",
       "    <tr style=\"text-align: right;\">\n",
       "      <th></th>\n",
       "      <th>age</th>\n",
       "      <th>menopause</th>\n",
       "      <th>tumor-size</th>\n",
       "      <th>inv-nodes</th>\n",
       "      <th>node-caps</th>\n",
       "      <th>deg-malig</th>\n",
       "      <th>breast</th>\n",
       "      <th>breast-quad</th>\n",
       "      <th>irradiant</th>\n",
       "      <th>class</th>\n",
       "    </tr>\n",
       "  </thead>\n",
       "  <tbody>\n",
       "    <tr>\n",
       "      <th>268</th>\n",
       "      <td>'60-69'</td>\n",
       "      <td>'ge40'</td>\n",
       "      <td>'30-34'</td>\n",
       "      <td>'0-2'</td>\n",
       "      <td>'no'</td>\n",
       "      <td>'1'</td>\n",
       "      <td>'left'</td>\n",
       "      <td>'left_up'</td>\n",
       "      <td>'no'</td>\n",
       "      <td>'no-recurrence-events'</td>\n",
       "    </tr>\n",
       "    <tr>\n",
       "      <th>130</th>\n",
       "      <td>'40-49'</td>\n",
       "      <td>'premeno'</td>\n",
       "      <td>'30-34'</td>\n",
       "      <td>'0-2'</td>\n",
       "      <td>'no'</td>\n",
       "      <td>'2'</td>\n",
       "      <td>'left'</td>\n",
       "      <td>'right_low'</td>\n",
       "      <td>'no'</td>\n",
       "      <td>'no-recurrence-events'</td>\n",
       "    </tr>\n",
       "    <tr>\n",
       "      <th>35</th>\n",
       "      <td>'30-39'</td>\n",
       "      <td>'premeno'</td>\n",
       "      <td>'15-19'</td>\n",
       "      <td>'0-2'</td>\n",
       "      <td>'no'</td>\n",
       "      <td>'1'</td>\n",
       "      <td>'left'</td>\n",
       "      <td>'left_low'</td>\n",
       "      <td>'no'</td>\n",
       "      <td>'no-recurrence-events'</td>\n",
       "    </tr>\n",
       "    <tr>\n",
       "      <th>91</th>\n",
       "      <td>'30-39'</td>\n",
       "      <td>'premeno'</td>\n",
       "      <td>'30-34'</td>\n",
       "      <td>'3-5'</td>\n",
       "      <td>'no'</td>\n",
       "      <td>'3'</td>\n",
       "      <td>'right'</td>\n",
       "      <td>'left_up'</td>\n",
       "      <td>'yes'</td>\n",
       "      <td>'recurrence-events'</td>\n",
       "    </tr>\n",
       "    <tr>\n",
       "      <th>272</th>\n",
       "      <td>'30-39'</td>\n",
       "      <td>'premeno'</td>\n",
       "      <td>'20-24'</td>\n",
       "      <td>'3-5'</td>\n",
       "      <td>'yes'</td>\n",
       "      <td>'2'</td>\n",
       "      <td>'right'</td>\n",
       "      <td>'left_up'</td>\n",
       "      <td>'yes'</td>\n",
       "      <td>'no-recurrence-events'</td>\n",
       "    </tr>\n",
       "  </tbody>\n",
       "</table>\n",
       "</div>"
      ],
      "text/plain": [
       "         age  menopause tumor-size inv-nodes node-caps deg-malig   breast  \\\n",
       "268  '60-69'     'ge40'    '30-34'     '0-2'      'no'       '1'   'left'   \n",
       "130  '40-49'  'premeno'    '30-34'     '0-2'      'no'       '2'   'left'   \n",
       "35   '30-39'  'premeno'    '15-19'     '0-2'      'no'       '1'   'left'   \n",
       "91   '30-39'  'premeno'    '30-34'     '3-5'      'no'       '3'  'right'   \n",
       "272  '30-39'  'premeno'    '20-24'     '3-5'     'yes'       '2'  'right'   \n",
       "\n",
       "     breast-quad irradiant                   class  \n",
       "268    'left_up'      'no'  'no-recurrence-events'  \n",
       "130  'right_low'      'no'  'no-recurrence-events'  \n",
       "35    'left_low'      'no'  'no-recurrence-events'  \n",
       "91     'left_up'     'yes'     'recurrence-events'  \n",
       "272    'left_up'     'yes'  'no-recurrence-events'  "
      ]
     },
     "execution_count": 225,
     "metadata": {},
     "output_type": "execute_result"
    }
   ],
   "source": [
    "train.head()"
   ]
  },
  {
   "cell_type": "code",
   "execution_count": 226,
   "metadata": {},
   "outputs": [],
   "source": [
    "visitedColumns = ['class']\n",
    "decisionColumn = 'class'\n",
    "\n",
    "headNode = AddNode(train, visitedColumns, decisionColumn)    "
   ]
  },
  {
   "cell_type": "code",
   "execution_count": 227,
   "metadata": {},
   "outputs": [
    {
     "name": "stdout",
     "output_type": "stream",
     "text": [
      "INV-NODES\n",
      "  '0-2' -> TUMOR-SIZE\n",
      "    '30-34' -> IRRADIANT\n",
      "      'no' -> AGE\n",
      "        '60-69' -> BREAST-QUAD\n",
      "          'left_up' -> 'NO-RECURRENCE-EVENTS'\n",
      "          'left_low' -> 'NO-RECURRENCE-EVENTS'\n",
      "          'central' -> 'RECURRENCE-EVENTS'\n",
      "        '40-49' -> 'NO-RECURRENCE-EVENTS'\n",
      "        '50-59' -> BREAST-QUAD\n",
      "          'left_low' -> 'NO-RECURRENCE-EVENTS'\n",
      "          'central' -> 'NO-RECURRENCE-EVENTS'\n",
      "          'right_up' -> MENOPAUSE\n",
      "            'premeno' -> 'RECURRENCE-EVENTS'\n",
      "            'ge40' -> 'NO-RECURRENCE-EVENTS'\n",
      "          'left_up' -> 'NO-RECURRENCE-EVENTS'\n",
      "        '30-39' -> DEG-MALIG\n",
      "          '3' -> 'NO-RECURRENCE-EVENTS'\n",
      "          '1' -> 'RECURRENCE-EVENTS'\n",
      "          '2' -> 'NO-RECURRENCE-EVENTS'\n",
      "      'yes' -> DEG-MALIG\n",
      "        '3' -> 'RECURRENCE-EVENTS'\n",
      "        '2' -> NODE-CAPS\n",
      "          'no' -> 'NO-RECURRENCE-EVENTS'\n",
      "          'yes' -> 'RECURRENCE-EVENTS'\n",
      "        '1' -> 'RECURRENCE-EVENTS'\n",
      "    '15-19' -> MENOPAUSE\n",
      "      'premeno' -> BREAST-QUAD\n",
      "        'left_low' -> AGE\n",
      "          '30-39' -> BREAST\n",
      "            'left' -> 'NO-RECURRENCE-EVENTS'\n",
      "            'right' -> 'RECURRENCE-EVENTS'\n",
      "          '40-49' -> 'NO-RECURRENCE-EVENTS'\n",
      "          '50-59' -> DEG-MALIG\n",
      "            '2' -> BREAST\n",
      "              'left' -> 'RECURRENCE-EVENTS'\n",
      "              'right' -> 'NO-RECURRENCE-EVENTS'\n",
      "            '1' -> 'NO-RECURRENCE-EVENTS'\n",
      "        'left_up' -> 'RECURRENCE-EVENTS'\n",
      "      'ge40' -> 'NO-RECURRENCE-EVENTS'\n",
      "      'lt40' -> 'NO-RECURRENCE-EVENTS'\n",
      "    '25-29' -> DEG-MALIG\n",
      "      '1' -> BREAST-QUAD\n",
      "        'right_low' -> 'NO-RECURRENCE-EVENTS'\n",
      "        'central' -> 'NO-RECURRENCE-EVENTS'\n",
      "        'left_up' -> 'NO-RECURRENCE-EVENTS'\n",
      "      '2' -> BREAST-QUAD\n",
      "        'left_up' -> 'NO-RECURRENCE-EVENTS'\n",
      "        'left_low' -> AGE\n",
      "          '40-49' -> BREAST\n",
      "            'right' -> 'RECURRENCE-EVENTS'\n",
      "            'left' -> 'RECURRENCE-EVENTS'\n",
      "          '50-59' -> 'NO-RECURRENCE-EVENTS'\n",
      "          '30-39' -> 'NO-RECURRENCE-EVENTS'\n",
      "          '60-69' -> 'NO-RECURRENCE-EVENTS'\n",
      "        'right_low' -> 'NO-RECURRENCE-EVENTS'\n",
      "        'right_up' -> 'RECURRENCE-EVENTS'\n",
      "        'central' -> 'NO-RECURRENCE-EVENTS'\n",
      "      '3' -> BREAST\n",
      "        'left' -> 'RECURRENCE-EVENTS'\n",
      "        'right' -> AGE\n",
      "          '40-49' -> 'NO-RECURRENCE-EVENTS'\n",
      "          '50-59' -> 'RECURRENCE-EVENTS'\n",
      "          '60-69' -> 'NO-RECURRENCE-EVENTS'\n",
      "    '10-14' -> 'NO-RECURRENCE-EVENTS'\n",
      "    '20-24' -> AGE\n",
      "      '60-69' -> DEG-MALIG\n",
      "        '3' -> 'RECURRENCE-EVENTS'\n",
      "        '1' -> BREAST\n",
      "          'right' -> 'RECURRENCE-EVENTS'\n",
      "          'left' -> 'NO-RECURRENCE-EVENTS'\n",
      "        '2' -> 'NO-RECURRENCE-EVENTS'\n",
      "      '40-49' -> BREAST-QUAD\n",
      "        'right_up' -> 'NO-RECURRENCE-EVENTS'\n",
      "        'left_low' -> DEG-MALIG\n",
      "          '1' -> 'NO-RECURRENCE-EVENTS'\n",
      "          '3' -> 'NO-RECURRENCE-EVENTS'\n",
      "          '2' -> 'NO-RECURRENCE-EVENTS'\n",
      "        'right_low' -> 'NO-RECURRENCE-EVENTS'\n",
      "        'left_up' -> 'NO-RECURRENCE-EVENTS'\n",
      "        'central' -> 'NO-RECURRENCE-EVENTS'\n",
      "      '50-59' -> DEG-MALIG\n",
      "        '3' -> 'NO-RECURRENCE-EVENTS'\n",
      "        '2' -> BREAST\n",
      "          'right' -> BREAST-QUAD\n",
      "            'central' -> 'RECURRENCE-EVENTS'\n",
      "            'left_up' -> 'NO-RECURRENCE-EVENTS'\n",
      "          'left' -> 'RECURRENCE-EVENTS'\n",
      "        '1' -> 'NO-RECURRENCE-EVENTS'\n",
      "      '30-39' -> DEG-MALIG\n",
      "        '2' -> 'NO-RECURRENCE-EVENTS'\n",
      "        '3' -> 'RECURRENCE-EVENTS'\n",
      "      '70-79' -> 'NO-RECURRENCE-EVENTS'\n",
      "    '50-54' -> DEG-MALIG\n",
      "      '3' -> 'RECURRENCE-EVENTS'\n",
      "      '2' -> AGE\n",
      "        '40-49' -> BREAST\n",
      "          'right' -> 'RECURRENCE-EVENTS'\n",
      "          'left' -> 'NO-RECURRENCE-EVENTS'\n",
      "        '60-69' -> 'NO-RECURRENCE-EVENTS'\n",
      "      '1' -> 'NO-RECURRENCE-EVENTS'\n",
      "    '40-44' -> AGE\n",
      "      '50-59' -> 'NO-RECURRENCE-EVENTS'\n",
      "      '40-49' -> BREAST\n",
      "        'left' -> 'RECURRENCE-EVENTS'\n",
      "        'right' -> 'NO-RECURRENCE-EVENTS'\n",
      "      '30-39' -> 'NO-RECURRENCE-EVENTS'\n",
      "      '60-69' -> 'RECURRENCE-EVENTS'\n",
      "      '70-79' -> 'NO-RECURRENCE-EVENTS'\n",
      "    '35-39' -> AGE\n",
      "      '40-49' -> BREAST-QUAD\n",
      "        'left_up' -> 'RECURRENCE-EVENTS'\n",
      "        'left_low' -> 'NO-RECURRENCE-EVENTS'\n",
      "        'right_up' -> 'NO-RECURRENCE-EVENTS'\n",
      "      '30-39' -> 'RECURRENCE-EVENTS'\n",
      "      '50-59' -> BREAST-QUAD\n",
      "        'left_up' -> 'NO-RECURRENCE-EVENTS'\n",
      "        'left_low' -> DEG-MALIG\n",
      "          '2' -> 'RECURRENCE-EVENTS'\n",
      "          '3' -> 'NO-RECURRENCE-EVENTS'\n",
      "    '0-4' -> AGE\n",
      "      '30-39' -> 'RECURRENCE-EVENTS'\n",
      "      '70-79' -> 'NO-RECURRENCE-EVENTS'\n",
      "      '40-49' -> 'NO-RECURRENCE-EVENTS'\n",
      "      '50-59' -> 'NO-RECURRENCE-EVENTS'\n",
      "    '5-9' -> 'NO-RECURRENCE-EVENTS'\n",
      "    '45-49' -> AGE\n",
      "      '60-69' -> 'RECURRENCE-EVENTS'\n",
      "      '40-49' -> 'NO-RECURRENCE-EVENTS'\n",
      "  '3-5' -> TUMOR-SIZE\n",
      "    '30-34' -> BREAST-QUAD\n",
      "      'left_up' -> 'RECURRENCE-EVENTS'\n",
      "      'left_low' -> NODE-CAPS\n",
      "        'no' -> 'RECURRENCE-EVENTS'\n",
      "        'yes' -> 'NO-RECURRENCE-EVENTS'\n",
      "      'right_up' -> 'RECURRENCE-EVENTS'\n",
      "      'central' -> 'RECURRENCE-EVENTS'\n",
      "    '20-24' -> BREAST-QUAD\n",
      "      'left_up' -> 'NO-RECURRENCE-EVENTS'\n",
      "      'left_low' -> AGE\n",
      "        '50-59' -> 'NO-RECURRENCE-EVENTS'\n",
      "        '40-49' -> 'RECURRENCE-EVENTS'\n",
      "        '60-69' -> 'RECURRENCE-EVENTS'\n",
      "        '30-39' -> 'RECURRENCE-EVENTS'\n",
      "      'right_up' -> 'RECURRENCE-EVENTS'\n",
      "      'central' -> 'NO-RECURRENCE-EVENTS'\n",
      "    '10-14' -> 'NO-RECURRENCE-EVENTS'\n",
      "    '25-29' -> AGE\n",
      "      '30-39' -> 'RECURRENCE-EVENTS'\n",
      "      '50-59' -> 'NO-RECURRENCE-EVENTS'\n",
      "    '40-44' -> AGE\n",
      "      '50-59' -> 'NO-RECURRENCE-EVENTS'\n",
      "      '60-69' -> NODE-CAPS\n",
      "        'yes' -> 'RECURRENCE-EVENTS'\n",
      "        'no' -> 'NO-RECURRENCE-EVENTS'\n",
      "      '30-39' -> 'NO-RECURRENCE-EVENTS'\n",
      "  '9-11' -> AGE\n",
      "    '30-39' -> 'RECURRENCE-EVENTS'\n",
      "    '50-59' -> 'RECURRENCE-EVENTS'\n",
      "    '40-49' -> TUMOR-SIZE\n",
      "      '35-39' -> 'NO-RECURRENCE-EVENTS'\n",
      "      '25-29' -> 'RECURRENCE-EVENTS'\n",
      "  '6-8' -> TUMOR-SIZE\n",
      "    '30-34' -> AGE\n",
      "      '40-49' -> NODE-CAPS\n",
      "        'no' -> 'NO-RECURRENCE-EVENTS'\n",
      "        'yes' -> 'RECURRENCE-EVENTS'\n",
      "      '50-59' -> 'RECURRENCE-EVENTS'\n",
      "      '60-69' -> 'NO-RECURRENCE-EVENTS'\n",
      "    '25-29' -> 'RECURRENCE-EVENTS'\n",
      "    '40-44' -> 'RECURRENCE-EVENTS'\n",
      "    '45-49' -> 'NO-RECURRENCE-EVENTS'\n",
      "    '35-39' -> 'RECURRENCE-EVENTS'\n",
      "    '15-19' -> 'RECURRENCE-EVENTS'\n",
      "    '20-24' -> 'NO-RECURRENCE-EVENTS'\n",
      "    '10-14' -> 'RECURRENCE-EVENTS'\n",
      "  '12-14' -> MENOPAUSE\n",
      "    'ge40' -> 'RECURRENCE-EVENTS'\n",
      "    'premeno' -> 'NO-RECURRENCE-EVENTS'\n",
      "  '15-17' -> AGE\n",
      "    '40-49' -> 'RECURRENCE-EVENTS'\n",
      "    '50-59' -> 'NO-RECURRENCE-EVENTS'\n",
      "  '24-26' -> 'RECURRENCE-EVENTS'\n"
     ]
    }
   ],
   "source": [
    "PrintTree(headNode)"
   ]
  },
  {
   "cell_type": "markdown",
   "metadata": {},
   "source": [
    "It's aliveee!! Now let's see how the prediction would go."
   ]
  },
  {
   "cell_type": "code",
   "execution_count": 240,
   "metadata": {},
   "outputs": [],
   "source": [
    "def Predict(head, x):\n",
    "    currentNode = head\n",
    "    \n",
    "    while True:\n",
    "        columnValue = x[currentNode.Value()].iloc[0]\n",
    "        currentNode = currentNode.Children()[columnValue]\n",
    "        \n",
    "        if currentNode.IsLeafNode():\n",
    "            return currentNode.Value()"
   ]
  },
  {
   "cell_type": "code",
   "execution_count": 249,
   "metadata": {},
   "outputs": [
    {
     "data": {
      "text/html": [
       "<div>\n",
       "<style scoped>\n",
       "    .dataframe tbody tr th:only-of-type {\n",
       "        vertical-align: middle;\n",
       "    }\n",
       "\n",
       "    .dataframe tbody tr th {\n",
       "        vertical-align: top;\n",
       "    }\n",
       "\n",
       "    .dataframe thead th {\n",
       "        text-align: right;\n",
       "    }\n",
       "</style>\n",
       "<table border=\"1\" class=\"dataframe\">\n",
       "  <thead>\n",
       "    <tr style=\"text-align: right;\">\n",
       "      <th></th>\n",
       "      <th>age</th>\n",
       "      <th>menopause</th>\n",
       "      <th>tumor-size</th>\n",
       "      <th>inv-nodes</th>\n",
       "      <th>node-caps</th>\n",
       "      <th>deg-malig</th>\n",
       "      <th>breast</th>\n",
       "      <th>breast-quad</th>\n",
       "      <th>irradiant</th>\n",
       "    </tr>\n",
       "  </thead>\n",
       "  <tbody>\n",
       "    <tr>\n",
       "      <th>32</th>\n",
       "      <td>'50-59'</td>\n",
       "      <td>'ge40'</td>\n",
       "      <td>'25-29'</td>\n",
       "      <td>'0-2'</td>\n",
       "      <td>'no'</td>\n",
       "      <td>'3'</td>\n",
       "      <td>'left'</td>\n",
       "      <td>'right_up'</td>\n",
       "      <td>'no'</td>\n",
       "    </tr>\n",
       "    <tr>\n",
       "      <th>132</th>\n",
       "      <td>'40-49'</td>\n",
       "      <td>'premeno'</td>\n",
       "      <td>'30-34'</td>\n",
       "      <td>'0-2'</td>\n",
       "      <td>'no'</td>\n",
       "      <td>'3'</td>\n",
       "      <td>'right'</td>\n",
       "      <td>'right_up'</td>\n",
       "      <td>'no'</td>\n",
       "    </tr>\n",
       "    <tr>\n",
       "      <th>227</th>\n",
       "      <td>'40-49'</td>\n",
       "      <td>'ge40'</td>\n",
       "      <td>'30-34'</td>\n",
       "      <td>'0-2'</td>\n",
       "      <td>'no'</td>\n",
       "      <td>'2'</td>\n",
       "      <td>'left'</td>\n",
       "      <td>'left_up'</td>\n",
       "      <td>'yes'</td>\n",
       "    </tr>\n",
       "    <tr>\n",
       "      <th>148</th>\n",
       "      <td>'40-49'</td>\n",
       "      <td>'premeno'</td>\n",
       "      <td>'40-44'</td>\n",
       "      <td>'0-2'</td>\n",
       "      <td>'no'</td>\n",
       "      <td>'2'</td>\n",
       "      <td>'right'</td>\n",
       "      <td>'left_low'</td>\n",
       "      <td>'no'</td>\n",
       "    </tr>\n",
       "    <tr>\n",
       "      <th>263</th>\n",
       "      <td>'40-49'</td>\n",
       "      <td>'premeno'</td>\n",
       "      <td>'20-24'</td>\n",
       "      <td>'3-5'</td>\n",
       "      <td>'yes'</td>\n",
       "      <td>'2'</td>\n",
       "      <td>'right'</td>\n",
       "      <td>'right_up'</td>\n",
       "      <td>'yes'</td>\n",
       "    </tr>\n",
       "  </tbody>\n",
       "</table>\n",
       "</div>"
      ],
      "text/plain": [
       "         age  menopause tumor-size inv-nodes node-caps deg-malig   breast  \\\n",
       "32   '50-59'     'ge40'    '25-29'     '0-2'      'no'       '3'   'left'   \n",
       "132  '40-49'  'premeno'    '30-34'     '0-2'      'no'       '3'  'right'   \n",
       "227  '40-49'     'ge40'    '30-34'     '0-2'      'no'       '2'   'left'   \n",
       "148  '40-49'  'premeno'    '40-44'     '0-2'      'no'       '2'  'right'   \n",
       "263  '40-49'  'premeno'    '20-24'     '3-5'     'yes'       '2'  'right'   \n",
       "\n",
       "    breast-quad irradiant  \n",
       "32   'right_up'      'no'  \n",
       "132  'right_up'      'no'  \n",
       "227   'left_up'     'yes'  \n",
       "148  'left_low'      'no'  \n",
       "263  'right_up'     'yes'  "
      ]
     },
     "execution_count": 249,
     "metadata": {},
     "output_type": "execute_result"
    }
   ],
   "source": [
    "x_test[0:5]"
   ]
  },
  {
   "cell_type": "code",
   "execution_count": 260,
   "metadata": {},
   "outputs": [
    {
     "data": {
      "text/plain": [
       "32     'no-recurrence-events'\n",
       "132       'recurrence-events'\n",
       "227    'no-recurrence-events'\n",
       "148    'no-recurrence-events'\n",
       "263       'recurrence-events'\n",
       "Name: class, dtype: object"
      ]
     },
     "execution_count": 260,
     "metadata": {},
     "output_type": "execute_result"
    }
   ],
   "source": [
    "y_test[0:5]"
   ]
  },
  {
   "cell_type": "code",
   "execution_count": 261,
   "metadata": {},
   "outputs": [
    {
     "name": "stdout",
     "output_type": "stream",
     "text": [
      "'recurrence-events'\n",
      "'no-recurrence-events'\n",
      "'no-recurrence-events'\n",
      "'no-recurrence-events'\n",
      "'recurrence-events'\n"
     ]
    }
   ],
   "source": [
    "for i in range(5):\n",
    "    print(Predict(headNode, x_test[i:i+1]))"
   ]
  },
  {
   "cell_type": "markdown",
   "metadata": {},
   "source": [
    "3/5. It may just be working. Let's assemble it all and try it."
   ]
  },
  {
   "cell_type": "code",
   "execution_count": 318,
   "metadata": {},
   "outputs": [],
   "source": [
    "class Node:\n",
    "                \n",
    "    #Constructor\n",
    "    def __init__(self, value, isLeaf = False):\n",
    "        self.value = value\n",
    "        self.children = {}\n",
    "        self.isLeaf = isLeaf\n",
    "        \n",
    "    #Getters\n",
    "    def Value(self):\n",
    "        return self.value\n",
    "    \n",
    "    def IsLeafNode(self):\n",
    "        return self.isLeaf\n",
    "    \n",
    "    def Children(self):\n",
    "        return self.children\n",
    "    \n",
    "    #Setters    \n",
    "    def AddChild(self, name, node):\n",
    "        self.children[name] = node\n",
    "        \n",
    "class DecisionTree:\n",
    "            \n",
    "    def Train(self, df, decisionColumn):\n",
    "        visitedColumns = [decisionColumn]\n",
    "        self.head = AddNode(df, visitedColumns, decisionColumn)    \n",
    "        \n",
    "    def Predict(self, x):\n",
    "        currentNode = self.head\n",
    "    \n",
    "        while True:\n",
    "            columnValue = x[currentNode.Value()].iloc[0]\n",
    "            \n",
    "            #Quick fix in the case when a branch has not explored an option in the the test\n",
    "            #Better solution would be to calculate the decision for each branch node\n",
    "            if columnValue not in currentNode.Children():\n",
    "                columnValue = list(currentNode.Children())[0]\n",
    "             \n",
    "            currentNode = currentNode.Children()[columnValue]\n",
    "\n",
    "            if currentNode.IsLeafNode():\n",
    "                return currentNode.Value()\n",
    "        \n",
    "    def PrintTree(self):\n",
    "        print(self.head.Value().upper())\n",
    "        PrintChildren(self.head, ' ')      \n",
    "\n",
    "    #Getters\n",
    "    def Head(self):\n",
    "        return self.head\n",
    "    \n",
    "    #'Private'\n",
    "    import operator\n",
    "\n",
    "    #Dataframe left, column names that have already been visited up to the root, decision column name\n",
    "    def AddNode(df, excludedColumns, decisionColumn):\n",
    "        treshold = 0\n",
    "        gains = {}\n",
    "\n",
    "        #Explore the gain for each column in the dataframe, excluding the already visited columns up to the root\n",
    "        for column in df.columns:\n",
    "            if column not in excludedColumns:\n",
    "                gains[column] = Gain(df, column, decisionColumn)\n",
    "\n",
    "        #Select the column with the highest gain\n",
    "        maxGain = max(gains.items(), key=operator.itemgetter(1))[1]\n",
    "        maxGainColumn = max(gains.items(), key=operator.itemgetter(1))[0]\n",
    "\n",
    "        #If the gain is above the treshold, recursively explore the gain for each unique value in the column\n",
    "        if maxGain > treshold:\n",
    "            newNode = Node(maxGainColumn, False)\n",
    "            excludedColumnsPath = excludedColumns.copy()\n",
    "            excludedColumnsPath.append(maxGainColumn)\n",
    "\n",
    "            #For each value in the column, explore the options for another branch node\n",
    "            for columnValue in df[maxGainColumn].unique():\n",
    "                childNode = AddNode(df[df[maxGainColumn] == columnValue], excludedColumnsPath, decisionColumn)\n",
    "                newNode.AddChild(columnValue, childNode)\n",
    "\n",
    "            return newNode\n",
    "        #If the gain is below the treshold, then we choose the most common decision as a leaf node\n",
    "        else:\n",
    "            decision = df[decisionColumn].value_counts().idxmax()\n",
    "            return Node(decision, True)\n",
    "        \n",
    "    #columnData contains only the Y column\n",
    "    def Entropy(columnData):\n",
    "\n",
    "        entropy = 0\n",
    "\n",
    "        for decision in columnData.unique():\n",
    "            decisionProbability = (columnData == decision).sum() / columnData.count()\n",
    "\n",
    "            entropy = entropy - decisionProbability * np.log2(decisionProbability)\n",
    "\n",
    "        return entropy\n",
    "    \n",
    "    #Dataframe for the node we're in, name of the column the next node could be, name of the decision column\n",
    "    def Gain(df, columnName, className):\n",
    "        gain = 0\n",
    "\n",
    "        gain = gain + Entropy(df[className])\n",
    "\n",
    "        for value in df[columnName].unique():\n",
    "            valueRows = df[df[columnName] == value]\n",
    "            valueRowsCount = valueRows.count().iloc[0]\n",
    "            totalRows = df.count().iloc[0]\n",
    "\n",
    "            gain = gain - valueRowsCount / totalRows * Entropy(valueRows[className])\n",
    "\n",
    "        return gain\n",
    "        \n",
    "    def PrintChildren(node, space):\n",
    "        for childKey, childValue in node.Children().items():    \n",
    "            print(space, childKey, '->', childValue.Value().upper())\n",
    "            PrintChildren(childValue, space + '  ')\n",
    "\n"
   ]
  },
  {
   "cell_type": "code",
   "execution_count": 273,
   "metadata": {},
   "outputs": [
    {
     "name": "stdout",
     "output_type": "stream",
     "text": [
      "OUTLOOK\n",
      "  Sunny -> HUMIDITY\n",
      "    High -> NO\n",
      "    Normal -> YES\n",
      "  Overcast -> YES\n",
      "  Rain -> WIND\n",
      "    Weak -> YES\n",
      "    Strong -> NO\n"
     ]
    }
   ],
   "source": [
    "decisionTree = DecisionTree()\n",
    "decisionTree.Train(weather, 'Decision')\n",
    "decisionTree.PrintTree()"
   ]
  },
  {
   "cell_type": "code",
   "execution_count": 316,
   "metadata": {
    "scrolled": true
   },
   "outputs": [
    {
     "name": "stdout",
     "output_type": "stream",
     "text": [
      "INV-NODES\n",
      "  '0-2' -> TUMOR-SIZE\n",
      "    '30-34' -> IRRADIANT\n",
      "      'no' -> AGE\n",
      "        '60-69' -> BREAST-QUAD\n",
      "          'left_up' -> 'NO-RECURRENCE-EVENTS'\n",
      "          'left_low' -> 'NO-RECURRENCE-EVENTS'\n",
      "          'central' -> 'RECURRENCE-EVENTS'\n",
      "        '40-49' -> 'NO-RECURRENCE-EVENTS'\n",
      "        '50-59' -> BREAST-QUAD\n",
      "          'left_low' -> 'NO-RECURRENCE-EVENTS'\n",
      "          'central' -> 'NO-RECURRENCE-EVENTS'\n",
      "          'right_up' -> MENOPAUSE\n",
      "            'premeno' -> 'RECURRENCE-EVENTS'\n",
      "            'ge40' -> 'NO-RECURRENCE-EVENTS'\n",
      "          'left_up' -> 'NO-RECURRENCE-EVENTS'\n",
      "        '30-39' -> DEG-MALIG\n",
      "          '3' -> 'NO-RECURRENCE-EVENTS'\n",
      "          '1' -> 'RECURRENCE-EVENTS'\n",
      "          '2' -> 'NO-RECURRENCE-EVENTS'\n",
      "      'yes' -> DEG-MALIG\n",
      "        '3' -> 'RECURRENCE-EVENTS'\n",
      "        '2' -> NODE-CAPS\n",
      "          'no' -> 'NO-RECURRENCE-EVENTS'\n",
      "          'yes' -> 'RECURRENCE-EVENTS'\n",
      "        '1' -> 'RECURRENCE-EVENTS'\n",
      "    '15-19' -> MENOPAUSE\n",
      "      'premeno' -> BREAST-QUAD\n",
      "        'left_low' -> AGE\n",
      "          '30-39' -> BREAST\n",
      "            'left' -> 'NO-RECURRENCE-EVENTS'\n",
      "            'right' -> 'RECURRENCE-EVENTS'\n",
      "          '40-49' -> 'NO-RECURRENCE-EVENTS'\n",
      "          '50-59' -> DEG-MALIG\n",
      "            '2' -> BREAST\n",
      "              'left' -> 'RECURRENCE-EVENTS'\n",
      "              'right' -> 'NO-RECURRENCE-EVENTS'\n",
      "            '1' -> 'NO-RECURRENCE-EVENTS'\n",
      "        'left_up' -> 'RECURRENCE-EVENTS'\n",
      "      'ge40' -> 'NO-RECURRENCE-EVENTS'\n",
      "      'lt40' -> 'NO-RECURRENCE-EVENTS'\n",
      "    '25-29' -> DEG-MALIG\n",
      "      '1' -> BREAST-QUAD\n",
      "        'right_low' -> 'NO-RECURRENCE-EVENTS'\n",
      "        'central' -> 'NO-RECURRENCE-EVENTS'\n",
      "        'left_up' -> 'NO-RECURRENCE-EVENTS'\n",
      "      '2' -> BREAST-QUAD\n",
      "        'left_up' -> 'NO-RECURRENCE-EVENTS'\n",
      "        'left_low' -> AGE\n",
      "          '40-49' -> BREAST\n",
      "            'right' -> 'RECURRENCE-EVENTS'\n",
      "            'left' -> 'RECURRENCE-EVENTS'\n",
      "          '50-59' -> 'NO-RECURRENCE-EVENTS'\n",
      "          '30-39' -> 'NO-RECURRENCE-EVENTS'\n",
      "          '60-69' -> 'NO-RECURRENCE-EVENTS'\n",
      "        'right_low' -> 'NO-RECURRENCE-EVENTS'\n",
      "        'right_up' -> 'RECURRENCE-EVENTS'\n",
      "        'central' -> 'NO-RECURRENCE-EVENTS'\n",
      "      '3' -> BREAST\n",
      "        'left' -> 'RECURRENCE-EVENTS'\n",
      "        'right' -> AGE\n",
      "          '40-49' -> 'NO-RECURRENCE-EVENTS'\n",
      "          '50-59' -> 'RECURRENCE-EVENTS'\n",
      "          '60-69' -> 'NO-RECURRENCE-EVENTS'\n",
      "    '10-14' -> 'NO-RECURRENCE-EVENTS'\n",
      "    '20-24' -> AGE\n",
      "      '60-69' -> DEG-MALIG\n",
      "        '3' -> 'RECURRENCE-EVENTS'\n",
      "        '1' -> BREAST\n",
      "          'right' -> 'RECURRENCE-EVENTS'\n",
      "          'left' -> 'NO-RECURRENCE-EVENTS'\n",
      "        '2' -> 'NO-RECURRENCE-EVENTS'\n",
      "      '40-49' -> BREAST-QUAD\n",
      "        'right_up' -> 'NO-RECURRENCE-EVENTS'\n",
      "        'left_low' -> DEG-MALIG\n",
      "          '1' -> 'NO-RECURRENCE-EVENTS'\n",
      "          '3' -> 'NO-RECURRENCE-EVENTS'\n",
      "          '2' -> 'NO-RECURRENCE-EVENTS'\n",
      "        'right_low' -> 'NO-RECURRENCE-EVENTS'\n",
      "        'left_up' -> 'NO-RECURRENCE-EVENTS'\n",
      "        'central' -> 'NO-RECURRENCE-EVENTS'\n",
      "      '50-59' -> DEG-MALIG\n",
      "        '3' -> 'NO-RECURRENCE-EVENTS'\n",
      "        '2' -> BREAST\n",
      "          'right' -> BREAST-QUAD\n",
      "            'central' -> 'RECURRENCE-EVENTS'\n",
      "            'left_up' -> 'NO-RECURRENCE-EVENTS'\n",
      "          'left' -> 'RECURRENCE-EVENTS'\n",
      "        '1' -> 'NO-RECURRENCE-EVENTS'\n",
      "      '30-39' -> DEG-MALIG\n",
      "        '2' -> 'NO-RECURRENCE-EVENTS'\n",
      "        '3' -> 'RECURRENCE-EVENTS'\n",
      "      '70-79' -> 'NO-RECURRENCE-EVENTS'\n",
      "    '50-54' -> DEG-MALIG\n",
      "      '3' -> 'RECURRENCE-EVENTS'\n",
      "      '2' -> AGE\n",
      "        '40-49' -> BREAST\n",
      "          'right' -> 'RECURRENCE-EVENTS'\n",
      "          'left' -> 'NO-RECURRENCE-EVENTS'\n",
      "        '60-69' -> 'NO-RECURRENCE-EVENTS'\n",
      "      '1' -> 'NO-RECURRENCE-EVENTS'\n",
      "    '40-44' -> AGE\n",
      "      '50-59' -> 'NO-RECURRENCE-EVENTS'\n",
      "      '40-49' -> BREAST\n",
      "        'left' -> 'RECURRENCE-EVENTS'\n",
      "        'right' -> 'NO-RECURRENCE-EVENTS'\n",
      "      '30-39' -> 'NO-RECURRENCE-EVENTS'\n",
      "      '60-69' -> 'RECURRENCE-EVENTS'\n",
      "      '70-79' -> 'NO-RECURRENCE-EVENTS'\n",
      "    '35-39' -> AGE\n",
      "      '40-49' -> BREAST-QUAD\n",
      "        'left_up' -> 'RECURRENCE-EVENTS'\n",
      "        'left_low' -> 'NO-RECURRENCE-EVENTS'\n",
      "        'right_up' -> 'NO-RECURRENCE-EVENTS'\n",
      "      '30-39' -> 'RECURRENCE-EVENTS'\n",
      "      '50-59' -> BREAST-QUAD\n",
      "        'left_up' -> 'NO-RECURRENCE-EVENTS'\n",
      "        'left_low' -> DEG-MALIG\n",
      "          '2' -> 'RECURRENCE-EVENTS'\n",
      "          '3' -> 'NO-RECURRENCE-EVENTS'\n",
      "    '0-4' -> AGE\n",
      "      '30-39' -> 'RECURRENCE-EVENTS'\n",
      "      '70-79' -> 'NO-RECURRENCE-EVENTS'\n",
      "      '40-49' -> 'NO-RECURRENCE-EVENTS'\n",
      "      '50-59' -> 'NO-RECURRENCE-EVENTS'\n",
      "    '5-9' -> 'NO-RECURRENCE-EVENTS'\n",
      "    '45-49' -> AGE\n",
      "      '60-69' -> 'RECURRENCE-EVENTS'\n",
      "      '40-49' -> 'NO-RECURRENCE-EVENTS'\n",
      "  '3-5' -> TUMOR-SIZE\n",
      "    '30-34' -> BREAST-QUAD\n",
      "      'left_up' -> 'RECURRENCE-EVENTS'\n",
      "      'left_low' -> NODE-CAPS\n",
      "        'no' -> 'RECURRENCE-EVENTS'\n",
      "        'yes' -> 'NO-RECURRENCE-EVENTS'\n",
      "      'right_up' -> 'RECURRENCE-EVENTS'\n",
      "      'central' -> 'RECURRENCE-EVENTS'\n",
      "    '20-24' -> BREAST-QUAD\n",
      "      'left_up' -> 'NO-RECURRENCE-EVENTS'\n",
      "      'left_low' -> AGE\n",
      "        '50-59' -> 'NO-RECURRENCE-EVENTS'\n",
      "        '40-49' -> 'RECURRENCE-EVENTS'\n",
      "        '60-69' -> 'RECURRENCE-EVENTS'\n",
      "        '30-39' -> 'RECURRENCE-EVENTS'\n",
      "      'right_up' -> 'RECURRENCE-EVENTS'\n",
      "      'central' -> 'NO-RECURRENCE-EVENTS'\n",
      "    '10-14' -> 'NO-RECURRENCE-EVENTS'\n",
      "    '25-29' -> AGE\n",
      "      '30-39' -> 'RECURRENCE-EVENTS'\n",
      "      '50-59' -> 'NO-RECURRENCE-EVENTS'\n",
      "    '40-44' -> AGE\n",
      "      '50-59' -> 'NO-RECURRENCE-EVENTS'\n",
      "      '60-69' -> NODE-CAPS\n",
      "        'yes' -> 'RECURRENCE-EVENTS'\n",
      "        'no' -> 'NO-RECURRENCE-EVENTS'\n",
      "      '30-39' -> 'NO-RECURRENCE-EVENTS'\n",
      "  '9-11' -> AGE\n",
      "    '30-39' -> 'RECURRENCE-EVENTS'\n",
      "    '50-59' -> 'RECURRENCE-EVENTS'\n",
      "    '40-49' -> TUMOR-SIZE\n",
      "      '35-39' -> 'NO-RECURRENCE-EVENTS'\n",
      "      '25-29' -> 'RECURRENCE-EVENTS'\n",
      "  '6-8' -> TUMOR-SIZE\n",
      "    '30-34' -> AGE\n",
      "      '40-49' -> NODE-CAPS\n",
      "        'no' -> 'NO-RECURRENCE-EVENTS'\n",
      "        'yes' -> 'RECURRENCE-EVENTS'\n",
      "      '50-59' -> 'RECURRENCE-EVENTS'\n",
      "      '60-69' -> 'NO-RECURRENCE-EVENTS'\n",
      "    '25-29' -> 'RECURRENCE-EVENTS'\n",
      "    '40-44' -> 'RECURRENCE-EVENTS'\n",
      "    '45-49' -> 'NO-RECURRENCE-EVENTS'\n",
      "    '35-39' -> 'RECURRENCE-EVENTS'\n",
      "    '15-19' -> 'RECURRENCE-EVENTS'\n",
      "    '20-24' -> 'NO-RECURRENCE-EVENTS'\n",
      "    '10-14' -> 'RECURRENCE-EVENTS'\n",
      "  '12-14' -> MENOPAUSE\n",
      "    'ge40' -> 'RECURRENCE-EVENTS'\n",
      "    'premeno' -> 'NO-RECURRENCE-EVENTS'\n",
      "  '15-17' -> AGE\n",
      "    '40-49' -> 'RECURRENCE-EVENTS'\n",
      "    '50-59' -> 'NO-RECURRENCE-EVENTS'\n",
      "  '24-26' -> 'RECURRENCE-EVENTS'\n"
     ]
    }
   ],
   "source": [
    "decisionTree = DecisionTree()\n",
    "decisionTree.Train(train, 'class')\n",
    "decisionTree.PrintTree()"
   ]
  },
  {
   "cell_type": "markdown",
   "metadata": {},
   "source": [
    "Awesome. Now, the moment of truth!"
   ]
  },
  {
   "cell_type": "code",
   "execution_count": 282,
   "metadata": {},
   "outputs": [
    {
     "name": "stdout",
     "output_type": "stream",
     "text": [
      "'recurrence-events'\n",
      "'no-recurrence-events'\n",
      "'no-recurrence-events'\n",
      "'no-recurrence-events'\n",
      "'recurrence-events'\n",
      "'no-recurrence-events'\n",
      "'no-recurrence-events'\n",
      "'recurrence-events'\n",
      "'no-recurrence-events'\n",
      "'no-recurrence-events'\n",
      "'recurrence-events'\n",
      "'no-recurrence-events'\n",
      "'no-recurrence-events'\n",
      "'recurrence-events'\n",
      "'recurrence-events'\n",
      "'no-recurrence-events'\n",
      "'no-recurrence-events'\n",
      "'no-recurrence-events'\n"
     ]
    },
    {
     "ename": "KeyError",
     "evalue": "\"'left_low'\"",
     "output_type": "error",
     "traceback": [
      "\u001b[1;31m---------------------------------------------------------------------------\u001b[0m",
      "\u001b[1;31mKeyError\u001b[0m                                  Traceback (most recent call last)",
      "\u001b[1;32m<ipython-input-282-8fbd4f5129d6>\u001b[0m in \u001b[0;36m<module>\u001b[1;34m()\u001b[0m\n\u001b[0;32m      1\u001b[0m \u001b[0mpredictions\u001b[0m \u001b[1;33m=\u001b[0m \u001b[1;33m[\u001b[0m\u001b[1;33m]\u001b[0m\u001b[1;33m\u001b[0m\u001b[0m\n\u001b[0;32m      2\u001b[0m \u001b[1;32mfor\u001b[0m \u001b[0mi\u001b[0m \u001b[1;32min\u001b[0m \u001b[0mrange\u001b[0m\u001b[1;33m(\u001b[0m\u001b[0mx_test\u001b[0m\u001b[1;33m.\u001b[0m\u001b[0mcount\u001b[0m\u001b[1;33m(\u001b[0m\u001b[1;33m)\u001b[0m\u001b[1;33m.\u001b[0m\u001b[0miloc\u001b[0m\u001b[1;33m[\u001b[0m\u001b[1;36m0\u001b[0m\u001b[1;33m]\u001b[0m\u001b[1;33m)\u001b[0m\u001b[1;33m:\u001b[0m\u001b[1;33m\u001b[0m\u001b[0m\n\u001b[1;32m----> 3\u001b[1;33m     \u001b[0mprint\u001b[0m\u001b[1;33m(\u001b[0m\u001b[0mdecisionTree\u001b[0m\u001b[1;33m.\u001b[0m\u001b[0mPredict\u001b[0m\u001b[1;33m(\u001b[0m\u001b[0mx_test\u001b[0m\u001b[1;33m[\u001b[0m\u001b[0mi\u001b[0m\u001b[1;33m:\u001b[0m\u001b[0mi\u001b[0m\u001b[1;33m+\u001b[0m\u001b[1;36m1\u001b[0m\u001b[1;33m]\u001b[0m\u001b[1;33m)\u001b[0m\u001b[1;33m)\u001b[0m\u001b[1;33m\u001b[0m\u001b[0m\n\u001b[0m\u001b[0;32m      4\u001b[0m     \u001b[1;31m#predictions.append()\u001b[0m\u001b[1;33m\u001b[0m\u001b[1;33m\u001b[0m\u001b[0m\n",
      "\u001b[1;32m<ipython-input-272-894a38e60551>\u001b[0m in \u001b[0;36mPredict\u001b[1;34m(self, x)\u001b[0m\n\u001b[0;32m     32\u001b[0m         \u001b[1;32mwhile\u001b[0m \u001b[1;32mTrue\u001b[0m\u001b[1;33m:\u001b[0m\u001b[1;33m\u001b[0m\u001b[0m\n\u001b[0;32m     33\u001b[0m             \u001b[0mcolumnValue\u001b[0m \u001b[1;33m=\u001b[0m \u001b[0mx\u001b[0m\u001b[1;33m[\u001b[0m\u001b[0mcurrentNode\u001b[0m\u001b[1;33m.\u001b[0m\u001b[0mValue\u001b[0m\u001b[1;33m(\u001b[0m\u001b[1;33m)\u001b[0m\u001b[1;33m]\u001b[0m\u001b[1;33m.\u001b[0m\u001b[0miloc\u001b[0m\u001b[1;33m[\u001b[0m\u001b[1;36m0\u001b[0m\u001b[1;33m]\u001b[0m\u001b[1;33m\u001b[0m\u001b[0m\n\u001b[1;32m---> 34\u001b[1;33m             \u001b[0mcurrentNode\u001b[0m \u001b[1;33m=\u001b[0m \u001b[0mcurrentNode\u001b[0m\u001b[1;33m.\u001b[0m\u001b[0mChildren\u001b[0m\u001b[1;33m(\u001b[0m\u001b[1;33m)\u001b[0m\u001b[1;33m[\u001b[0m\u001b[0mcolumnValue\u001b[0m\u001b[1;33m]\u001b[0m\u001b[1;33m\u001b[0m\u001b[0m\n\u001b[0m\u001b[0;32m     35\u001b[0m \u001b[1;33m\u001b[0m\u001b[0m\n\u001b[0;32m     36\u001b[0m             \u001b[1;32mif\u001b[0m \u001b[0mcurrentNode\u001b[0m\u001b[1;33m.\u001b[0m\u001b[0mIsLeafNode\u001b[0m\u001b[1;33m(\u001b[0m\u001b[1;33m)\u001b[0m\u001b[1;33m:\u001b[0m\u001b[1;33m\u001b[0m\u001b[0m\n",
      "\u001b[1;31mKeyError\u001b[0m: \"'left_low'\""
     ]
    }
   ],
   "source": [
    "predictions = []\n",
    "for i in range(x_test.count().iloc[0]):\n",
    "    print(decisionTree.Predict(x_test[i:i+1]))\n",
    "    #predictions.append()"
   ]
  },
  {
   "cell_type": "markdown",
   "metadata": {},
   "source": [
    "We have a problem when a branch has not encountered and explored an option. Let's do a quick fix and we'll try again.We'll just assign it the fist available option. A better solution would be to calculate the decision for each branch, but I don't think it's worth it at this point."
   ]
  },
  {
   "cell_type": "code",
   "execution_count": 319,
   "metadata": {
    "scrolled": true
   },
   "outputs": [],
   "source": [
    "predictions = []\n",
    "for i in range(x_test.count().iloc[0]):\n",
    "    prediction = decisionTree.Predict(x_test[i:i+1])\n",
    "    predictions.append(prediction)"
   ]
  },
  {
   "cell_type": "code",
   "execution_count": 321,
   "metadata": {},
   "outputs": [
    {
     "data": {
      "text/plain": [
       "0.6785714285714286"
      ]
     },
     "execution_count": 321,
     "metadata": {},
     "output_type": "execute_result"
    }
   ],
   "source": [
    "accuracy_score(y_test, predictions)"
   ]
  },
  {
   "cell_type": "markdown",
   "metadata": {},
   "source": [
    "The scikitlearn implementation (which is ID4.5 and I assume doesn't implmement my quick fix) got 0.6964285714285714. I would judge this mission... accomplished."
   ]
  },
  {
   "cell_type": "code",
   "execution_count": null,
   "metadata": {},
   "outputs": [],
   "source": []
  }
 ],
 "metadata": {
  "kernelspec": {
   "display_name": "Python 3",
   "language": "python",
   "name": "python3"
  },
  "language_info": {
   "codemirror_mode": {
    "name": "ipython",
    "version": 3
   },
   "file_extension": ".py",
   "mimetype": "text/x-python",
   "name": "python",
   "nbconvert_exporter": "python",
   "pygments_lexer": "ipython3",
   "version": "3.6.2"
  }
 },
 "nbformat": 4,
 "nbformat_minor": 2
}
